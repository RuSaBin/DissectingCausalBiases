{
 "cells": [
  {
   "cell_type": "code",
   "execution_count": 2,
   "id": "1ef4d9c1",
   "metadata": {},
   "outputs": [],
   "source": [
    "import pandas as pd\n",
    "import numpy as np\n",
    "import sklearn as sk"
   ]
  },
  {
   "cell_type": "code",
   "execution_count": 668,
   "id": "ab0f7f2f",
   "metadata": {},
   "outputs": [],
   "source": [
    "A = np.random.binomial(1,0.5,10000)\n",
    "B = np.random.binomial(1,0.5,10000)"
   ]
  },
  {
   "cell_type": "code",
   "execution_count": 776,
   "id": "04b2e711",
   "metadata": {},
   "outputs": [],
   "source": [
    "funcs = {'no_effect(doomed)':[1,1,1,1],'single_joint_causation': [1, 1, 1, 0], 'preventive_antagonismB1A1': [1, 1, 0, 1],\n",
    "        'inneffective_causal':[1, 1, 0, 0], 'preventive_antagonismA1B1': [1 ,0 ,1 ,1], 'causal_ineffective':[1, 0 ,1, 0],\n",
    "         'preventive_antagonism_mutual': [1, 0, 0, 1], 'causal_synergism':[1, 0, 0, 0], 'preventive_synergism':[0, 1, 1 ,1],\n",
    "         'mutual_blocage':[0, 1, 1, 0], 'preventive_ineffective':[0, 1, 0, 1 ], 'A1_blocks_B1': [0, 1 ,0 ,0],\n",
    "         'ineffective_preventive': [0 ,0 ,1 ,1], 'B1_blocks_A1': [0, 0, 1 ,0], 'single_joint_prevention': [0, 0, 0, 1 ],\n",
    "         'no_effect(immune)': [0, 0, 0, 0, 0]\n",
    "\n",
    "        \n",
    "        }"
   ]
  },
  {
   "cell_type": "code",
   "execution_count": 777,
   "id": "cc0a4151",
   "metadata": {},
   "outputs": [
    {
     "name": "stdout",
     "output_type": "stream",
     "text": [
      "no_effect(doomed)\n",
      "[1, 1, 1, 1]\n",
      "single_joint_causation\n",
      "[1, 1, 1, 0]\n",
      "preventive_antagonismB1A1\n",
      "[1, 1, 0, 1]\n",
      "inneffective_causal\n",
      "[1, 1, 0, 0]\n",
      "preventive_antagonismA1B1\n",
      "[1, 0, 1, 1]\n",
      "causal_ineffective\n",
      "[1, 0, 1, 0]\n",
      "preventive_antagonism_mutual\n",
      "[1, 0, 0, 1]\n",
      "causal_synergism\n",
      "[1, 0, 0, 0]\n",
      "preventive_synergism\n",
      "[0, 1, 1, 1]\n",
      "mutual_blocage\n",
      "[0, 1, 1, 0]\n",
      "preventive_ineffective\n",
      "[0, 1, 0, 1]\n",
      "A1_blocks_B1\n",
      "[0, 1, 0, 0]\n",
      "ineffective_preventive\n",
      "[0, 0, 1, 1]\n",
      "B1_blocks_A1\n",
      "[0, 0, 1, 0]\n",
      "single_joint_prevention\n",
      "[0, 0, 0, 1]\n",
      "no_effect(immune)\n",
      "[0, 0, 0, 0, 0]\n"
     ]
    }
   ],
   "source": [
    "for name, f in funcs.items():\n",
    "    print(name)\n",
    "    print(f)"
   ]
  },
  {
   "cell_type": "code",
   "execution_count": 778,
   "id": "905aa7d7",
   "metadata": {},
   "outputs": [],
   "source": [
    "data={}\n",
    "for name, f in funcs.items():\n",
    "    Y=[]\n",
    "    for a, b in zip(A,B):\n",
    "        if a==1 and b==1:\n",
    "            Y.append(f[0])\n",
    "        if a==0 and b==1:\n",
    "            Y.append(f[1])\n",
    "        if a==1 and b==0:\n",
    "            Y.append(f[2])\n",
    "        if a==0 and b==0:\n",
    "            Y.append(f[3])\n",
    "    df = pd.DataFrame({'A':A, 'B':B, 'Y':Y})\n",
    "    data[name]=df\n",
    "        "
   ]
  },
  {
   "cell_type": "code",
   "execution_count": 805,
   "id": "21d5a53f",
   "metadata": {},
   "outputs": [],
   "source": [
    "SDA_s=[]\n",
    "SDA_ALT = []\n",
    "SDA_FULL = []\n",
    "causal_effectA_s = []\n",
    "interaction_s = []\n",
    "totalA_s =[]\n",
    "biasA_s = []\n",
    "\n",
    "SDB_s=[]\n",
    "causal_effectB_s = []\n",
    "totalB_s =[]\n",
    "biasB_s = []\n",
    "\n",
    "female_black_s = []\n",
    "male_black_s = []\n",
    "female_white_s = []\n",
    "male_white_s = []\n",
    "\n",
    "name_s=[]\n",
    "\n",
    "for name, df in data.items():\n",
    "    name_s.append(name)\n",
    "    PA1 = df[(df.A==1)&(df.Y==1)].shape[0]/df[(df.A==1)].shape[0]\n",
    "    PA0=df[(df.A==0)&(df.Y==1)].shape[0]/df[(df.A==0)].shape[0]\n",
    "    SDA = PA1-PA0\n",
    "    SDA_s.append(SDA)\n",
    "    PAB10 = df[(df.A==1)&(df.Y==1)&(df.B==0)].shape[0]/df[(df.A==1)&(df.B==0)].shape[0]\n",
    "    PAB00 = df[(df.A==0)&(df.Y==1)&(df.B==0)].shape[0]/df[(df.A==0)&(df.B==0)].shape[0]\n",
    "    PAB11 = df[(df.A==1)&(df.Y==1)&(df.B==1)].shape[0]/df[(df.A==1)&(df.B==1)].shape[0]\n",
    "    PAB01 = df[(df.A==0)&(df.Y==1)&(df.B==1)].shape[0]/df[(df.A==0)&(df.B==1)].shape[0]\n",
    "    causal_effectA = PAB10-PAB00\n",
    "    causal_effectA_s.append(causal_effectA)\n",
    "    interaction = PAB11 -PAB01-PAB10+ PAB00\n",
    "    interaction_s.append(interaction)\n",
    "    totalA =  causal_effectA+interaction\n",
    "    totalA_s.append(totalA)\n",
    "    biasA = SDA-totalA \n",
    "    biasA_s.append(biasA)\n",
    "    \n",
    "    ###\n",
    "    PB1 = df[(df.B==1)&(df.Y==1)].shape[0]/df[(df.B==1)].shape[0]\n",
    "    PB0= df[(df.B==0)&(df.Y==1)].shape[0]/df[(df.B==0)].shape[0]\n",
    "    SDB=PB1-PB0 \n",
    "    SDB_s.append(SDB)\n",
    "    PAB01 = df[(df.A==0)&(df.Y==1)&(df.B==1)].shape[0]/df[(df.A==0)&(df.B==1)].shape[0]\n",
    "    causal_effect_B = PAB01-PAB00\n",
    "    causal_effectB_s.append(causal_effect_B)\n",
    "    totalB = causal_effect_B+interaction\n",
    "    totalB_s.append(totalB)\n",
    "    biasB = SDB-totalB\n",
    "    biasB_s.append(biasB)\n",
    "    \n",
    "    ###\n",
    "    SDA_alt = PAB10-PAB01\n",
    "    SDA_ALT.append(SDA_alt)\n",
    "    PB1 = df[(df.B==1)].shape[0]/df.shape[0]\n",
    "    SDA_full = SDA_alt+ interaction*PB1\n",
    "    SDA_FULL.append(SDA_full)\n",
    "    \n",
    "    \n",
    "    ###\n",
    "    \n",
    "    female_black_s.append(PAB00)\n",
    "    male_black_s.append(PAB10)\n",
    " \n",
    "    female_white_s.append(PAB01)\n",
    "    male_white_s.append(PAB11)\n",
    "    \n",
    "results=pd.DataFrame({'Name': name_s,'SDA':SDA_s, 'SDA_ALT': SDA_ALT,'SDA_FULL':SDA_FULL, 'causal_effectA':causal_effectA_s, 'interaction':interaction_s,\n",
    "                    'totalA':totalA_s,'biasA':biasA_s, 'SDB':SDB_s, 'causal_effectB':causal_effectB_s,\n",
    "                     'totalB':totalB_s,'biasB':biasB_s, 'female_black':female_black_s, 'male_black':male_black_s,\n",
    "                    'female_white':female_white_s, 'male_white':male_white_s })\n",
    "    \n",
    "\n",
    "    "
   ]
  },
  {
   "cell_type": "code",
   "execution_count": 817,
   "id": "46090b1e",
   "metadata": {},
   "outputs": [],
   "source": [
    "df = data['preventive_antagonismB1A1']"
   ]
  },
  {
   "cell_type": "code",
   "execution_count": 818,
   "id": "da8ba3e3",
   "metadata": {
    "scrolled": true
   },
   "outputs": [
    {
     "data": {
      "text/plain": [
       "0.4931"
      ]
     },
     "execution_count": 818,
     "metadata": {},
     "output_type": "execute_result"
    }
   ],
   "source": [
    "df[(df.B==1)].shape[0]/df.shape[0]"
   ]
  },
  {
   "cell_type": "code",
   "execution_count": 820,
   "id": "1cc84d7a",
   "metadata": {},
   "outputs": [
    {
     "data": {
      "text/plain": [
       "-1.0"
      ]
     },
     "execution_count": 820,
     "metadata": {},
     "output_type": "execute_result"
    }
   ],
   "source": [
    "PAB10 = df[(df.A==1)&(df.Y==1)&(df.B==0)].shape[0]/df[(df.A==1)&(df.B==0)].shape[0]\n",
    "PAB01 = df[(df.A==0)&(df.Y==1)&(df.B==1)].shape[0]/df[(df.A==0)&(df.B==1)].shape[0]\n",
    "PAB10-PAB01"
   ]
  },
  {
   "cell_type": "code",
   "execution_count": 819,
   "id": "56106fd2",
   "metadata": {},
   "outputs": [
    {
     "data": {
      "text/plain": [
       "-0.5104208416833667"
      ]
     },
     "execution_count": 819,
     "metadata": {},
     "output_type": "execute_result"
    }
   ],
   "source": [
    "PA1 = df[(df.A==1)&(df.Y==1)].shape[0]/df[(df.A==1)].shape[0]\n",
    "PA0=df[(df.A==0)&(df.Y==1)].shape[0]/df[(df.A==0)].shape[0]\n",
    "PA1-PA0"
   ]
  },
  {
   "cell_type": "code",
   "execution_count": 806,
   "id": "4dc03acf",
   "metadata": {},
   "outputs": [
    {
     "data": {
      "text/html": [
       "<div>\n",
       "<style scoped>\n",
       "    .dataframe tbody tr th:only-of-type {\n",
       "        vertical-align: middle;\n",
       "    }\n",
       "\n",
       "    .dataframe tbody tr th {\n",
       "        vertical-align: top;\n",
       "    }\n",
       "\n",
       "    .dataframe thead th {\n",
       "        text-align: right;\n",
       "    }\n",
       "</style>\n",
       "<table border=\"1\" class=\"dataframe\">\n",
       "  <thead>\n",
       "    <tr style=\"text-align: right;\">\n",
       "      <th></th>\n",
       "      <th>Name</th>\n",
       "      <th>SDA</th>\n",
       "      <th>SDA_ALT</th>\n",
       "      <th>SDA_FULL</th>\n",
       "      <th>causal_effectA</th>\n",
       "      <th>interaction</th>\n",
       "      <th>totalA</th>\n",
       "      <th>biasA</th>\n",
       "      <th>SDB</th>\n",
       "      <th>causal_effectB</th>\n",
       "      <th>totalB</th>\n",
       "      <th>biasB</th>\n",
       "      <th>female_black</th>\n",
       "      <th>male_black</th>\n",
       "      <th>female_white</th>\n",
       "      <th>male_white</th>\n",
       "    </tr>\n",
       "  </thead>\n",
       "  <tbody>\n",
       "    <tr>\n",
       "      <th>0</th>\n",
       "      <td>no_effect(doomed)</td>\n",
       "      <td>0.000000</td>\n",
       "      <td>0.0</td>\n",
       "      <td>0.0000</td>\n",
       "      <td>0.0</td>\n",
       "      <td>0.0</td>\n",
       "      <td>0.0</td>\n",
       "      <td>0.000000</td>\n",
       "      <td>0.000000</td>\n",
       "      <td>0.0</td>\n",
       "      <td>0.0</td>\n",
       "      <td>0.000000</td>\n",
       "      <td>1.0</td>\n",
       "      <td>1.0</td>\n",
       "      <td>1.0</td>\n",
       "      <td>1.0</td>\n",
       "    </tr>\n",
       "    <tr>\n",
       "      <th>1</th>\n",
       "      <td>single_joint_causation</td>\n",
       "      <td>0.503393</td>\n",
       "      <td>0.0</td>\n",
       "      <td>-0.4931</td>\n",
       "      <td>1.0</td>\n",
       "      <td>-1.0</td>\n",
       "      <td>0.0</td>\n",
       "      <td>0.503393</td>\n",
       "      <td>0.497534</td>\n",
       "      <td>1.0</td>\n",
       "      <td>0.0</td>\n",
       "      <td>0.497534</td>\n",
       "      <td>0.0</td>\n",
       "      <td>1.0</td>\n",
       "      <td>1.0</td>\n",
       "      <td>1.0</td>\n",
       "    </tr>\n",
       "    <tr>\n",
       "      <th>2</th>\n",
       "      <td>preventive_antagonismB1A1</td>\n",
       "      <td>-0.510421</td>\n",
       "      <td>-1.0</td>\n",
       "      <td>-0.5069</td>\n",
       "      <td>-1.0</td>\n",
       "      <td>1.0</td>\n",
       "      <td>0.0</td>\n",
       "      <td>-0.510421</td>\n",
       "      <td>0.502466</td>\n",
       "      <td>0.0</td>\n",
       "      <td>1.0</td>\n",
       "      <td>-0.497534</td>\n",
       "      <td>1.0</td>\n",
       "      <td>0.0</td>\n",
       "      <td>1.0</td>\n",
       "      <td>1.0</td>\n",
       "    </tr>\n",
       "    <tr>\n",
       "      <th>3</th>\n",
       "      <td>inneffective_causal</td>\n",
       "      <td>-0.007028</td>\n",
       "      <td>-1.0</td>\n",
       "      <td>-1.0000</td>\n",
       "      <td>0.0</td>\n",
       "      <td>0.0</td>\n",
       "      <td>0.0</td>\n",
       "      <td>-0.007028</td>\n",
       "      <td>1.000000</td>\n",
       "      <td>1.0</td>\n",
       "      <td>1.0</td>\n",
       "      <td>0.000000</td>\n",
       "      <td>0.0</td>\n",
       "      <td>0.0</td>\n",
       "      <td>1.0</td>\n",
       "      <td>1.0</td>\n",
       "    </tr>\n",
       "    <tr>\n",
       "      <th>4</th>\n",
       "      <td>preventive_antagonismA1B1</td>\n",
       "      <td>0.496607</td>\n",
       "      <td>1.0</td>\n",
       "      <td>1.4931</td>\n",
       "      <td>0.0</td>\n",
       "      <td>1.0</td>\n",
       "      <td>1.0</td>\n",
       "      <td>-0.503393</td>\n",
       "      <td>-0.504563</td>\n",
       "      <td>-1.0</td>\n",
       "      <td>0.0</td>\n",
       "      <td>-0.504563</td>\n",
       "      <td>1.0</td>\n",
       "      <td>1.0</td>\n",
       "      <td>0.0</td>\n",
       "      <td>1.0</td>\n",
       "    </tr>\n",
       "    <tr>\n",
       "      <th>5</th>\n",
       "      <td>causal_ineffective</td>\n",
       "      <td>1.000000</td>\n",
       "      <td>1.0</td>\n",
       "      <td>1.0000</td>\n",
       "      <td>1.0</td>\n",
       "      <td>0.0</td>\n",
       "      <td>1.0</td>\n",
       "      <td>0.000000</td>\n",
       "      <td>-0.007029</td>\n",
       "      <td>0.0</td>\n",
       "      <td>0.0</td>\n",
       "      <td>-0.007029</td>\n",
       "      <td>0.0</td>\n",
       "      <td>1.0</td>\n",
       "      <td>0.0</td>\n",
       "      <td>1.0</td>\n",
       "    </tr>\n",
       "    <tr>\n",
       "      <th>6</th>\n",
       "      <td>preventive_antagonism_mutual</td>\n",
       "      <td>-0.013814</td>\n",
       "      <td>0.0</td>\n",
       "      <td>0.9862</td>\n",
       "      <td>-1.0</td>\n",
       "      <td>2.0</td>\n",
       "      <td>1.0</td>\n",
       "      <td>-1.013814</td>\n",
       "      <td>-0.002097</td>\n",
       "      <td>-1.0</td>\n",
       "      <td>1.0</td>\n",
       "      <td>-1.002097</td>\n",
       "      <td>1.0</td>\n",
       "      <td>0.0</td>\n",
       "      <td>0.0</td>\n",
       "      <td>1.0</td>\n",
       "    </tr>\n",
       "    <tr>\n",
       "      <th>7</th>\n",
       "      <td>causal_synergism</td>\n",
       "      <td>0.489579</td>\n",
       "      <td>0.0</td>\n",
       "      <td>0.4931</td>\n",
       "      <td>0.0</td>\n",
       "      <td>1.0</td>\n",
       "      <td>1.0</td>\n",
       "      <td>-0.510421</td>\n",
       "      <td>0.495437</td>\n",
       "      <td>0.0</td>\n",
       "      <td>1.0</td>\n",
       "      <td>-0.504563</td>\n",
       "      <td>0.0</td>\n",
       "      <td>0.0</td>\n",
       "      <td>0.0</td>\n",
       "      <td>1.0</td>\n",
       "    </tr>\n",
       "    <tr>\n",
       "      <th>8</th>\n",
       "      <td>preventive_synergism</td>\n",
       "      <td>-0.489579</td>\n",
       "      <td>0.0</td>\n",
       "      <td>-0.4931</td>\n",
       "      <td>0.0</td>\n",
       "      <td>-1.0</td>\n",
       "      <td>-1.0</td>\n",
       "      <td>0.510421</td>\n",
       "      <td>-0.495437</td>\n",
       "      <td>0.0</td>\n",
       "      <td>-1.0</td>\n",
       "      <td>0.504563</td>\n",
       "      <td>1.0</td>\n",
       "      <td>1.0</td>\n",
       "      <td>1.0</td>\n",
       "      <td>0.0</td>\n",
       "    </tr>\n",
       "    <tr>\n",
       "      <th>9</th>\n",
       "      <td>mutual_blocage</td>\n",
       "      <td>0.013814</td>\n",
       "      <td>0.0</td>\n",
       "      <td>-0.9862</td>\n",
       "      <td>1.0</td>\n",
       "      <td>-2.0</td>\n",
       "      <td>-1.0</td>\n",
       "      <td>1.013814</td>\n",
       "      <td>0.002097</td>\n",
       "      <td>1.0</td>\n",
       "      <td>-1.0</td>\n",
       "      <td>1.002097</td>\n",
       "      <td>0.0</td>\n",
       "      <td>1.0</td>\n",
       "      <td>1.0</td>\n",
       "      <td>0.0</td>\n",
       "    </tr>\n",
       "    <tr>\n",
       "      <th>10</th>\n",
       "      <td>preventive_ineffective</td>\n",
       "      <td>-1.000000</td>\n",
       "      <td>-1.0</td>\n",
       "      <td>-1.0000</td>\n",
       "      <td>-1.0</td>\n",
       "      <td>0.0</td>\n",
       "      <td>-1.0</td>\n",
       "      <td>0.000000</td>\n",
       "      <td>0.007029</td>\n",
       "      <td>0.0</td>\n",
       "      <td>0.0</td>\n",
       "      <td>0.007029</td>\n",
       "      <td>1.0</td>\n",
       "      <td>0.0</td>\n",
       "      <td>1.0</td>\n",
       "      <td>0.0</td>\n",
       "    </tr>\n",
       "    <tr>\n",
       "      <th>11</th>\n",
       "      <td>A1_blocks_B1</td>\n",
       "      <td>-0.496607</td>\n",
       "      <td>-1.0</td>\n",
       "      <td>-1.4931</td>\n",
       "      <td>0.0</td>\n",
       "      <td>-1.0</td>\n",
       "      <td>-1.0</td>\n",
       "      <td>0.503393</td>\n",
       "      <td>0.504563</td>\n",
       "      <td>1.0</td>\n",
       "      <td>0.0</td>\n",
       "      <td>0.504563</td>\n",
       "      <td>0.0</td>\n",
       "      <td>0.0</td>\n",
       "      <td>1.0</td>\n",
       "      <td>0.0</td>\n",
       "    </tr>\n",
       "    <tr>\n",
       "      <th>12</th>\n",
       "      <td>ineffective_preventive</td>\n",
       "      <td>0.007028</td>\n",
       "      <td>1.0</td>\n",
       "      <td>1.0000</td>\n",
       "      <td>0.0</td>\n",
       "      <td>0.0</td>\n",
       "      <td>0.0</td>\n",
       "      <td>0.007028</td>\n",
       "      <td>-1.000000</td>\n",
       "      <td>-1.0</td>\n",
       "      <td>-1.0</td>\n",
       "      <td>0.000000</td>\n",
       "      <td>1.0</td>\n",
       "      <td>1.0</td>\n",
       "      <td>0.0</td>\n",
       "      <td>0.0</td>\n",
       "    </tr>\n",
       "    <tr>\n",
       "      <th>13</th>\n",
       "      <td>B1_blocks_A1</td>\n",
       "      <td>0.510421</td>\n",
       "      <td>1.0</td>\n",
       "      <td>0.5069</td>\n",
       "      <td>1.0</td>\n",
       "      <td>-1.0</td>\n",
       "      <td>0.0</td>\n",
       "      <td>0.510421</td>\n",
       "      <td>-0.502466</td>\n",
       "      <td>0.0</td>\n",
       "      <td>-1.0</td>\n",
       "      <td>0.497534</td>\n",
       "      <td>0.0</td>\n",
       "      <td>1.0</td>\n",
       "      <td>0.0</td>\n",
       "      <td>0.0</td>\n",
       "    </tr>\n",
       "    <tr>\n",
       "      <th>14</th>\n",
       "      <td>single_joint_prevention</td>\n",
       "      <td>-0.503393</td>\n",
       "      <td>0.0</td>\n",
       "      <td>0.4931</td>\n",
       "      <td>-1.0</td>\n",
       "      <td>1.0</td>\n",
       "      <td>0.0</td>\n",
       "      <td>-0.503393</td>\n",
       "      <td>-0.497534</td>\n",
       "      <td>-1.0</td>\n",
       "      <td>0.0</td>\n",
       "      <td>-0.497534</td>\n",
       "      <td>1.0</td>\n",
       "      <td>0.0</td>\n",
       "      <td>0.0</td>\n",
       "      <td>0.0</td>\n",
       "    </tr>\n",
       "    <tr>\n",
       "      <th>15</th>\n",
       "      <td>no_effect(immune)</td>\n",
       "      <td>0.000000</td>\n",
       "      <td>0.0</td>\n",
       "      <td>0.0000</td>\n",
       "      <td>0.0</td>\n",
       "      <td>0.0</td>\n",
       "      <td>0.0</td>\n",
       "      <td>0.000000</td>\n",
       "      <td>0.000000</td>\n",
       "      <td>0.0</td>\n",
       "      <td>0.0</td>\n",
       "      <td>0.000000</td>\n",
       "      <td>0.0</td>\n",
       "      <td>0.0</td>\n",
       "      <td>0.0</td>\n",
       "      <td>0.0</td>\n",
       "    </tr>\n",
       "  </tbody>\n",
       "</table>\n",
       "</div>"
      ],
      "text/plain": [
       "                            Name       SDA  SDA_ALT  SDA_FULL  causal_effectA  \\\n",
       "0              no_effect(doomed)  0.000000      0.0    0.0000             0.0   \n",
       "1         single_joint_causation  0.503393      0.0   -0.4931             1.0   \n",
       "2      preventive_antagonismB1A1 -0.510421     -1.0   -0.5069            -1.0   \n",
       "3            inneffective_causal -0.007028     -1.0   -1.0000             0.0   \n",
       "4      preventive_antagonismA1B1  0.496607      1.0    1.4931             0.0   \n",
       "5             causal_ineffective  1.000000      1.0    1.0000             1.0   \n",
       "6   preventive_antagonism_mutual -0.013814      0.0    0.9862            -1.0   \n",
       "7               causal_synergism  0.489579      0.0    0.4931             0.0   \n",
       "8           preventive_synergism -0.489579      0.0   -0.4931             0.0   \n",
       "9                 mutual_blocage  0.013814      0.0   -0.9862             1.0   \n",
       "10        preventive_ineffective -1.000000     -1.0   -1.0000            -1.0   \n",
       "11                  A1_blocks_B1 -0.496607     -1.0   -1.4931             0.0   \n",
       "12        ineffective_preventive  0.007028      1.0    1.0000             0.0   \n",
       "13                  B1_blocks_A1  0.510421      1.0    0.5069             1.0   \n",
       "14       single_joint_prevention -0.503393      0.0    0.4931            -1.0   \n",
       "15             no_effect(immune)  0.000000      0.0    0.0000             0.0   \n",
       "\n",
       "    interaction  totalA     biasA       SDB  causal_effectB  totalB     biasB  \\\n",
       "0           0.0     0.0  0.000000  0.000000             0.0     0.0  0.000000   \n",
       "1          -1.0     0.0  0.503393  0.497534             1.0     0.0  0.497534   \n",
       "2           1.0     0.0 -0.510421  0.502466             0.0     1.0 -0.497534   \n",
       "3           0.0     0.0 -0.007028  1.000000             1.0     1.0  0.000000   \n",
       "4           1.0     1.0 -0.503393 -0.504563            -1.0     0.0 -0.504563   \n",
       "5           0.0     1.0  0.000000 -0.007029             0.0     0.0 -0.007029   \n",
       "6           2.0     1.0 -1.013814 -0.002097            -1.0     1.0 -1.002097   \n",
       "7           1.0     1.0 -0.510421  0.495437             0.0     1.0 -0.504563   \n",
       "8          -1.0    -1.0  0.510421 -0.495437             0.0    -1.0  0.504563   \n",
       "9          -2.0    -1.0  1.013814  0.002097             1.0    -1.0  1.002097   \n",
       "10          0.0    -1.0  0.000000  0.007029             0.0     0.0  0.007029   \n",
       "11         -1.0    -1.0  0.503393  0.504563             1.0     0.0  0.504563   \n",
       "12          0.0     0.0  0.007028 -1.000000            -1.0    -1.0  0.000000   \n",
       "13         -1.0     0.0  0.510421 -0.502466             0.0    -1.0  0.497534   \n",
       "14          1.0     0.0 -0.503393 -0.497534            -1.0     0.0 -0.497534   \n",
       "15          0.0     0.0  0.000000  0.000000             0.0     0.0  0.000000   \n",
       "\n",
       "    female_black  male_black  female_white  male_white  \n",
       "0            1.0         1.0           1.0         1.0  \n",
       "1            0.0         1.0           1.0         1.0  \n",
       "2            1.0         0.0           1.0         1.0  \n",
       "3            0.0         0.0           1.0         1.0  \n",
       "4            1.0         1.0           0.0         1.0  \n",
       "5            0.0         1.0           0.0         1.0  \n",
       "6            1.0         0.0           0.0         1.0  \n",
       "7            0.0         0.0           0.0         1.0  \n",
       "8            1.0         1.0           1.0         0.0  \n",
       "9            0.0         1.0           1.0         0.0  \n",
       "10           1.0         0.0           1.0         0.0  \n",
       "11           0.0         0.0           1.0         0.0  \n",
       "12           1.0         1.0           0.0         0.0  \n",
       "13           0.0         1.0           0.0         0.0  \n",
       "14           1.0         0.0           0.0         0.0  \n",
       "15           0.0         0.0           0.0         0.0  "
      ]
     },
     "execution_count": 806,
     "metadata": {},
     "output_type": "execute_result"
    }
   ],
   "source": [
    "results"
   ]
  },
  {
   "cell_type": "code",
   "execution_count": 790,
   "id": "ef7383a3",
   "metadata": {},
   "outputs": [],
   "source": [
    "import matplotlib.pyplot as plt"
   ]
  },
  {
   "cell_type": "code",
   "execution_count": 791,
   "id": "edcec2ef",
   "metadata": {},
   "outputs": [
    {
     "data": {
      "text/plain": [
       "[<matplotlib.lines.Line2D at 0x7f86ceb51c10>]"
      ]
     },
     "execution_count": 791,
     "metadata": {},
     "output_type": "execute_result"
    },
    {
     "data": {
      "image/png": "[encoded data removed]",
      "text/plain": [
       "<Figure size 432x288 with 1 Axes>"
      ]
     },
     "metadata": {
      "needs_background": "light"
     },
     "output_type": "display_data"
    }
   ],
   "source": [
    "plt.plot(results.interaction, results.biasA)"
   ]
  },
  {
   "cell_type": "code",
   "execution_count": 796,
   "id": "2778a085",
   "metadata": {},
   "outputs": [
    {
     "data": {
      "text/plain": [
       "<matplotlib.collections.PathCollection at 0x7f86cf271d30>"
      ]
     },
     "execution_count": 796,
     "metadata": {},
     "output_type": "execute_result"
    },
    {
     "data": {
      "image/png": "[encoded data removed]",
      "text/plain": [
       "<Figure size 432x288 with 1 Axes>"
      ]
     },
     "metadata": {
      "needs_background": "light"
     },
     "output_type": "display_data"
    }
   ],
   "source": [
    "plt.scatter(results.interaction, results.SDA)"
   ]
  },
  {
   "cell_type": "code",
   "execution_count": 792,
   "id": "643f3c2e",
   "metadata": {},
   "outputs": [
    {
     "data": {
      "text/plain": [
       "[<matplotlib.lines.Line2D at 0x7f86cef960a0>]"
      ]
     },
     "execution_count": 792,
     "metadata": {},
     "output_type": "execute_result"
    },
    {
     "data": {
      "image/png": "[encoded data removed]",
      "text/plain": [
       "<Figure size 432x288 with 1 Axes>"
      ]
     },
     "metadata": {
      "needs_background": "light"
     },
     "output_type": "display_data"
    }
   ],
   "source": [
    "plt.plot(results.interaction, results.biasB)"
   ]
  },
  {
   "cell_type": "code",
   "execution_count": 797,
   "id": "106c4572",
   "metadata": {},
   "outputs": [
    {
     "data": {
      "text/plain": [
       "<matplotlib.collections.PathCollection at 0x7f86cf3cc1f0>"
      ]
     },
     "execution_count": 797,
     "metadata": {},
     "output_type": "execute_result"
    },
    {
     "data": {
      "image/png": "[encoded data removed]",
      "text/plain": [
       "<Figure size 432x288 with 1 Axes>"
      ]
     },
     "metadata": {
      "needs_background": "light"
     },
     "output_type": "display_data"
    }
   ],
   "source": [
    "plt.scatter(results.interaction, results.SDB)"
   ]
  },
  {
   "cell_type": "code",
   "execution_count": 4,
   "id": "36e6343e",
   "metadata": {},
   "outputs": [],
   "source": [
    "a = np.random.normal(10,5,1000)\n",
    "b = np.random.normal(10,3,1000)\n",
    "c = np.random.normal(5,2,1000)\n",
    "y = 3+0.5*a+0.7*b+0.9*a*b+0.2*c\n",
    "df = pd.DataFrame({'A':a, 'B':b, 'C':c, 'Y':y })"
   ]
  },
  {
   "cell_type": "code",
   "execution_count": 5,
   "id": "3f7ec0c4",
   "metadata": {},
   "outputs": [
    {
     "name": "stdout",
     "output_type": "stream",
     "text": [
      "0.9508792436183782 [9.42422124 9.2177437  0.24290131] -81.76355613867291\n"
     ]
    }
   ],
   "source": [
    "import numpy as np\n",
    "from sklearn.linear_model import LinearRegression\n",
    "X=df.drop('Y', axis=1)\n",
    "y=df.Y\n",
    "reg = LinearRegression().fit(X, y)\n",
    "print(reg.score(X, y), reg.coef_, reg.intercept_)"
   ]
  },
  {
   "cell_type": "markdown",
   "id": "313314db",
   "metadata": {},
   "source": [
    "Second case"
   ]
  },
  {
   "cell_type": "code",
   "execution_count": 852,
   "id": "195fffc2",
   "metadata": {},
   "outputs": [],
   "source": [
    "a = np.random.normal(10,5,1000)\n",
    "b = np.random.normal(10,3,1000)\n",
    "c = np.random.normal(5,2,1000)\n",
    "y = 3+0.5*a+0.7*b+0.2*c\n",
    "df = pd.DataFrame({'A':a, 'B':b, 'C':c, 'Y':y })"
   ]
  },
  {
   "cell_type": "code",
   "execution_count": 853,
   "id": "6144b75b",
   "metadata": {},
   "outputs": [
    {
     "name": "stdout",
     "output_type": "stream",
     "text": [
      "1.0 [0.5 0.7 0.2] 3.0000000000000018\n"
     ]
    }
   ],
   "source": [
    "X=df.drop('Y', axis=1)\n",
    "y=df.Y\n",
    "reg = LinearRegression().fit(X, y)\n",
    "print(reg.score(X, y), reg.coef_, reg.intercept_)"
   ]
  },
  {
   "cell_type": "markdown",
   "id": "b4528bac",
   "metadata": {},
   "source": [
    "Third Case"
   ]
  },
  {
   "cell_type": "code",
   "execution_count": 855,
   "id": "175cfabf",
   "metadata": {},
   "outputs": [],
   "source": [
    "a = np.random.binomial(1,0.5,1000)\n",
    "b = np.random.binomial(1,0.5,1000)\n",
    "c = np.random.normal(5,2,1000)\n",
    "y = 3+0.5*a+0.7*b+0.2*c\n",
    "df = pd.DataFrame({'A':a, 'B':b, 'C':c, 'Y':y })"
   ]
  },
  {
   "cell_type": "code",
   "execution_count": 858,
   "id": "eac403d5",
   "metadata": {},
   "outputs": [
    {
     "name": "stdout",
     "output_type": "stream",
     "text": [
      "1.0 [0.5 0.7 0.2] 3.000000000000001\n"
     ]
    }
   ],
   "source": [
    "X=df.drop('Y', axis=1)\n",
    "y=df.Y\n",
    "reg = LinearRegression().fit(X, y)\n",
    "print(reg.score(X, y), reg.coef_, reg.intercept_)"
   ]
  },
  {
   "cell_type": "markdown",
   "id": "e9b2a8e7",
   "metadata": {},
   "source": [
    "Fourth Case"
   ]
  },
  {
   "cell_type": "code",
   "execution_count": 118,
   "id": "6f44e9bb",
   "metadata": {},
   "outputs": [],
   "source": [
    "pa=0.9\n",
    "pb = 0.5\n",
    "a = np.random.binomial(1,pa,10000)\n",
    "b = np.random.binomial(1,pb,10000)\n",
    "c = np.random.normal(5,2,10000)\n",
    "y = 3+0.3*a+0.5*b+0.6*a*b+0.2*c\n",
    "df = pd.DataFrame({'A':a, 'B':b, 'C':c, 'Y':y })"
   ]
  },
  {
   "cell_type": "code",
   "execution_count": 119,
   "id": "e3f8f3f8",
   "metadata": {},
   "outputs": [
    {
     "name": "stdout",
     "output_type": "stream",
     "text": [
      "0.9827499734970173 [0.60775357 1.03944563 0.19987786] 2.7228777703082865\n"
     ]
    }
   ],
   "source": [
    "X=df.drop('Y', axis=1)\n",
    "y=df.Y\n",
    "reg = LinearRegression().fit(X, y)\n",
    "print(reg.score(X, y), reg.coef_, reg.intercept_)"
   ]
  },
  {
   "cell_type": "code",
   "execution_count": 102,
   "id": "deb6fa72",
   "metadata": {
    "scrolled": false
   },
   "outputs": [
    {
     "data": {
      "text/plain": [
       "0.0012861833484549834"
      ]
     },
     "execution_count": 102,
     "metadata": {},
     "output_type": "execute_result"
    }
   ],
   "source": [
    "reg.coef_[0]+reg.coef_[1] - (0.3+0.5+0.6)"
   ]
  },
  {
   "cell_type": "code",
   "execution_count": 117,
   "id": "19648b1e",
   "metadata": {},
   "outputs": [
    {
     "data": {
      "text/plain": [
       "1.4"
      ]
     },
     "execution_count": 117,
     "metadata": {},
     "output_type": "execute_result"
    }
   ],
   "source": [
    "(0.3+0.5+0.6)"
   ]
  },
  {
   "cell_type": "code",
   "execution_count": 120,
   "id": "3847b894",
   "metadata": {
    "scrolled": true
   },
   "outputs": [
    {
     "data": {
      "text/plain": [
       "1.407199198987103"
      ]
     },
     "execution_count": 120,
     "metadata": {},
     "output_type": "execute_result"
    }
   ],
   "source": [
    "((reg.coef_[0]-(pa*0.6))+(reg.coef_[1]-pb*0.6) +0.6 )"
   ]
  },
  {
   "cell_type": "code",
   "execution_count": 115,
   "id": "351b2f64",
   "metadata": {},
   "outputs": [
    {
     "data": {
      "text/plain": [
       "0.3"
      ]
     },
     "execution_count": 115,
     "metadata": {},
     "output_type": "execute_result"
    }
   ],
   "source": [
    "pa*0.6"
   ]
  },
  {
   "cell_type": "code",
   "execution_count": 105,
   "id": "f6234baa",
   "metadata": {
    "scrolled": true
   },
   "outputs": [
    {
     "data": {
      "text/plain": [
       "1.4"
      ]
     },
     "execution_count": 105,
     "metadata": {},
     "output_type": "execute_result"
    }
   ],
   "source": [
    "(0.3+0.5+0.6)"
   ]
  },
  {
   "cell_type": "code",
   "execution_count": 42,
   "id": "75f9c1e4",
   "metadata": {},
   "outputs": [
    {
     "data": {
      "text/plain": [
       "1.399416166737172"
      ]
     },
     "execution_count": 42,
     "metadata": {},
     "output_type": "execute_result"
    }
   ],
   "source": [
    "reg.coef_[0]+reg.coef_[1]"
   ]
  },
  {
   "cell_type": "code",
   "execution_count": 11,
   "id": "87463e3e",
   "metadata": {},
   "outputs": [
    {
     "data": {
      "text/html": [
       "<div>\n",
       "<style scoped>\n",
       "    .dataframe tbody tr th:only-of-type {\n",
       "        vertical-align: middle;\n",
       "    }\n",
       "\n",
       "    .dataframe tbody tr th {\n",
       "        vertical-align: top;\n",
       "    }\n",
       "\n",
       "    .dataframe thead th {\n",
       "        text-align: right;\n",
       "    }\n",
       "</style>\n",
       "<table border=\"1\" class=\"dataframe\">\n",
       "  <thead>\n",
       "    <tr style=\"text-align: right;\">\n",
       "      <th></th>\n",
       "      <th>A</th>\n",
       "      <th>B</th>\n",
       "      <th>C</th>\n",
       "    </tr>\n",
       "  </thead>\n",
       "  <tbody>\n",
       "    <tr>\n",
       "      <th>0</th>\n",
       "      <td>1</td>\n",
       "      <td>0</td>\n",
       "      <td>1.541637</td>\n",
       "    </tr>\n",
       "    <tr>\n",
       "      <th>4</th>\n",
       "      <td>1</td>\n",
       "      <td>0</td>\n",
       "      <td>8.998672</td>\n",
       "    </tr>\n",
       "    <tr>\n",
       "      <th>5</th>\n",
       "      <td>0</td>\n",
       "      <td>0</td>\n",
       "      <td>7.338392</td>\n",
       "    </tr>\n",
       "    <tr>\n",
       "      <th>6</th>\n",
       "      <td>1</td>\n",
       "      <td>0</td>\n",
       "      <td>0.627049</td>\n",
       "    </tr>\n",
       "    <tr>\n",
       "      <th>7</th>\n",
       "      <td>1</td>\n",
       "      <td>0</td>\n",
       "      <td>7.822161</td>\n",
       "    </tr>\n",
       "    <tr>\n",
       "      <th>...</th>\n",
       "      <td>...</td>\n",
       "      <td>...</td>\n",
       "      <td>...</td>\n",
       "    </tr>\n",
       "    <tr>\n",
       "      <th>9993</th>\n",
       "      <td>0</td>\n",
       "      <td>0</td>\n",
       "      <td>10.442306</td>\n",
       "    </tr>\n",
       "    <tr>\n",
       "      <th>9995</th>\n",
       "      <td>0</td>\n",
       "      <td>0</td>\n",
       "      <td>0.028747</td>\n",
       "    </tr>\n",
       "    <tr>\n",
       "      <th>9996</th>\n",
       "      <td>0</td>\n",
       "      <td>0</td>\n",
       "      <td>5.504112</td>\n",
       "    </tr>\n",
       "    <tr>\n",
       "      <th>9997</th>\n",
       "      <td>0</td>\n",
       "      <td>0</td>\n",
       "      <td>3.962596</td>\n",
       "    </tr>\n",
       "    <tr>\n",
       "      <th>9998</th>\n",
       "      <td>0</td>\n",
       "      <td>0</td>\n",
       "      <td>5.228295</td>\n",
       "    </tr>\n",
       "  </tbody>\n",
       "</table>\n",
       "<p>4920 rows × 3 columns</p>\n",
       "</div>"
      ],
      "text/plain": [
       "      A  B          C\n",
       "0     1  0   1.541637\n",
       "4     1  0   8.998672\n",
       "5     0  0   7.338392\n",
       "6     1  0   0.627049\n",
       "7     1  0   7.822161\n",
       "...  .. ..        ...\n",
       "9993  0  0  10.442306\n",
       "9995  0  0   0.028747\n",
       "9996  0  0   5.504112\n",
       "9997  0  0   3.962596\n",
       "9998  0  0   5.228295\n",
       "\n",
       "[4920 rows x 3 columns]"
      ]
     },
     "execution_count": 11,
     "metadata": {},
     "output_type": "execute_result"
    }
   ],
   "source": [
    "X[X.B==0]"
   ]
  }
 ],
 "metadata": {
  "kernelspec": {
   "display_name": "Python 3 (ipykernel)",
   "language": "python",
   "name": "python3"
  },
  "language_info": {
   "codemirror_mode": {
    "name": "ipython",
    "version": 3
   },
   "file_extension": ".py",
   "mimetype": "text/x-python",
   "name": "python",
   "nbconvert_exporter": "python",
   "pygments_lexer": "ipython3",
   "version": "3.8.2"
  }
 },
 "nbformat": 4,
 "nbformat_minor": 5
}
