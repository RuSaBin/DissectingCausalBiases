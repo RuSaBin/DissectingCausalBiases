{
 "cells": [
  {
   "cell_type": "code",
   "execution_count": 2,
   "id": "084c84af",
   "metadata": {},
   "outputs": [],
   "source": [
    "import random"
   ]
  },
  {
   "cell_type": "code",
   "execution_count": 3,
   "id": "73f70131",
   "metadata": {},
   "outputs": [],
   "source": [
    "import numpy as np"
   ]
  },
  {
   "cell_type": "code",
   "execution_count": 4,
   "id": "ce7cb24b",
   "metadata": {},
   "outputs": [],
   "source": [
    "import statistics as st"
   ]
  },
  {
   "cell_type": "code",
   "execution_count": 5,
   "id": "be5bf400",
   "metadata": {},
   "outputs": [],
   "source": [
    "from sklearn import linear_model, metrics"
   ]
  },
  {
   "cell_type": "code",
   "execution_count": 6,
   "id": "79fe890d",
   "metadata": {},
   "outputs": [],
   "source": [
    "def printStats2():\n",
    "    print('Var(Z) = ', st.variance(Z))\n",
    "    print('Var(X) = ', st.variance(X))\n",
    "    print('Var(Y) = ', st.variance(Y))\n",
    "    print('Var(W) = ', st.variance(W))\n",
    "    print('Cov(Z,X) = ', np.cov(Z,X)[0,1])\n",
    "    print('Cov(Z,Y) = ', np.cov(Z,Y)[0,1])\n",
    "    print('Cov(X,Y) = ', np.cov(Y,X)[0,1])\n",
    "    print('Cov(W,Y) = ', np.cov(Y,W)[0,1])\n",
    "    lin_modelXZ = linear_model.LinearRegression()\n",
    "    lin_modelXZ.fit(Z.reshape(-1,1), X.reshape(-1,1))\n",
    "    print('Regression coefficient X on Z (gamma)', lin_modelXZ.coef_[0,0], 'Ux = ', lin_modelXZ.intercept_[0]) \n",
    "    lin_modelYZ = linear_model.LinearRegression()\n",
    "    lin_modelYZ.fit(Z.reshape(-1,1), Y.reshape(-1,1))\n",
    "    print('Regression coefficient Y on Z: beta = ', lin_modelYZ.coef_[0,0], ', Uy = ', lin_modelYZ.intercept_)\n",
    "    lin_modelWY = linear_model.LinearRegression()\n",
    "    lin_modelWY.fit(W.reshape(-1,1), Y.reshape(-1,1))\n",
    "    print('Regression coefficient Y on W (beta)', lin_modelWY.coef_[0,0], 'Uy = ', lin_modelWY.intercept_[0])\n",
    "    print('Corr(Z,X) = ', np.corrcoef(Z,X)[0,1])\n",
    "    print('Corr(Z,Y) = ', np.corrcoef(Z,Y)[0,1])\n",
    "    print('Corr(X,Y) = ', np.corrcoef(Y,X)[0,1])\n",
    "    print('Corr(W,Y) = ', np.corrcoef(Y,W)[0,1])"
   ]
  },
  {
   "cell_type": "code",
   "execution_count": 8,
   "id": "a79514e7",
   "metadata": {},
   "outputs": [],
   "source": [
    "n=10000\n",
    "alpha = 2\n",
    "beta = 0.5\n",
    "gamma = 1\n",
    "Ux = np.asarray([random.gauss(0,1) for _ in range(n)])\n",
    "Uz = np.asarray([random.gauss(0,1) for _ in range(n)])\n",
    "Uy = np.asarray([random.gauss(0,1) for _ in range(n)])\n",
    "Uw = np.asarray([random.gauss(0,1) for _ in range(n)])\n",
    "\n",
    "X = Ux\n",
    "Z = alpha * X + Uz\n",
    "W = gamma * Z + Uw\n",
    "Y = beta * Z + Uy"
   ]
  },
  {
   "cell_type": "code",
   "execution_count": 9,
   "id": "6a4a2fc6",
   "metadata": {},
   "outputs": [
    {
     "name": "stdout",
     "output_type": "stream",
     "text": [
      "Var(Z) =  5.055528320396217\n",
      "Var(X) =  1.0100557124474008\n",
      "Var(Y) =  2.2324263894350596\n",
      "Var(W) =  5.976341786826862\n",
      "Cov(Z,X) =  2.0272173365488118\n",
      "Cov(Z,Y) =  2.5002665211861617\n",
      "Cov(X,Y) =  1.0024734838238325\n",
      "Cov(W,Y) =  2.4909955895081617\n",
      "Regression coefficient X on Z (gamma) 0.40099020479622793 Ux =  -0.0020333607221030025\n",
      "Regression coefficient Y on Z: beta =  0.4945608772675628 , Uy =  [0.01734043]\n",
      "Regression coefficient Y on W (beta) 0.416809425960016 Uy =  0.016071585837410595\n",
      "Corr(Z,X) =  0.8971072639659666\n",
      "Corr(Z,Y) =  0.7442424850130094\n",
      "Corr(X,Y) =  0.6675928176126734\n",
      "Corr(W,Y) =  0.6819721999571988\n"
     ]
    }
   ],
   "source": [
    "printStats2()"
   ]
  },
  {
   "cell_type": "code",
   "execution_count": null,
   "id": "0b8e9c60",
   "metadata": {},
   "outputs": [],
   "source": []
  }
 ],
 "metadata": {
  "kernelspec": {
   "display_name": "Python 3 (ipykernel)",
   "language": "python",
   "name": "python3"
  },
  "language_info": {
   "codemirror_mode": {
    "name": "ipython",
    "version": 3
   },
   "file_extension": ".py",
   "mimetype": "text/x-python",
   "name": "python",
   "nbconvert_exporter": "python",
   "pygments_lexer": "ipython3",
   "version": "3.9.7"
  }
 },
 "nbformat": 4,
 "nbformat_minor": 5
}
