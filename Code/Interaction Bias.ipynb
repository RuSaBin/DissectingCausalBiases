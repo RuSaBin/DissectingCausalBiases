{
 "cells": [
  {
   "cell_type": "code",
   "execution_count": 1,
   "id": "1ef4d9c1",
   "metadata": {},
   "outputs": [],
   "source": [
    "import pandas as pd\n",
    "import numpy as np\n",
    "import sklearn as sk"
   ]
  },
  {
   "cell_type": "code",
   "execution_count": 2,
   "id": "ab0f7f2f",
   "metadata": {},
   "outputs": [],
   "source": [
    "A = np.random.binomial(1,0.5,10000)\n",
    "B = np.random.binomial(1,0.5,10000)"
   ]
  },
  {
   "cell_type": "code",
   "execution_count": 3,
   "id": "04b2e711",
   "metadata": {},
   "outputs": [],
   "source": [
    "funcs = {'no_effect(doomed)':[1,1,1,1],'single_joint_causation': [1, 1, 1, 0], 'preventive_antagonismB1A1': [1, 1, 0, 1],\n",
    "        'inneffective_causal':[1, 1, 0, 0], 'preventive_antagonismA1B1': [1 ,0 ,1 ,1], 'causal_ineffective':[1, 0 ,1, 0],\n",
    "         'preventive_antagonism_mutual': [1, 0, 0, 1], 'causal_synergism':[1, 0, 0, 0], 'preventive_synergism':[0, 1, 1 ,1],\n",
    "         'mutual_blocage':[0, 1, 1, 0], 'preventive_ineffective':[0, 1, 0, 1 ], 'A1_blocks_B1': [0, 1 ,0 ,0],\n",
    "         'ineffective_preventive': [0 ,0 ,1 ,1], 'B1_blocks_A1': [0, 0, 1 ,0], 'single_joint_prevention': [0, 0, 0, 1 ],\n",
    "         'no_effect(immune)': [0, 0, 0, 0, 0]\n",
    "\n",
    "        \n",
    "        }"
   ]
  },
  {
   "cell_type": "code",
   "execution_count": null,
   "id": "5acca624",
   "metadata": {},
   "outputs": [],
   "source": []
  },
  {
   "cell_type": "code",
   "execution_count": 4,
   "id": "cc0a4151",
   "metadata": {
    "scrolled": true
   },
   "outputs": [
    {
     "name": "stdout",
     "output_type": "stream",
     "text": [
      "no_effect(doomed)\n",
      "[1, 1, 1, 1]\n",
      "single_joint_causation\n",
      "[1, 1, 1, 0]\n",
      "preventive_antagonismB1A1\n",
      "[1, 1, 0, 1]\n",
      "inneffective_causal\n",
      "[1, 1, 0, 0]\n",
      "preventive_antagonismA1B1\n",
      "[1, 0, 1, 1]\n",
      "causal_ineffective\n",
      "[1, 0, 1, 0]\n",
      "preventive_antagonism_mutual\n",
      "[1, 0, 0, 1]\n",
      "causal_synergism\n",
      "[1, 0, 0, 0]\n",
      "preventive_synergism\n",
      "[0, 1, 1, 1]\n",
      "mutual_blocage\n",
      "[0, 1, 1, 0]\n",
      "preventive_ineffective\n",
      "[0, 1, 0, 1]\n",
      "A1_blocks_B1\n",
      "[0, 1, 0, 0]\n",
      "ineffective_preventive\n",
      "[0, 0, 1, 1]\n",
      "B1_blocks_A1\n",
      "[0, 0, 1, 0]\n",
      "single_joint_prevention\n",
      "[0, 0, 0, 1]\n",
      "no_effect(immune)\n",
      "[0, 0, 0, 0, 0]\n"
     ]
    }
   ],
   "source": [
    "for name, f in funcs.items():\n",
    "    print(name)\n",
    "    print(f)"
   ]
  },
  {
   "cell_type": "code",
   "execution_count": 5,
   "id": "905aa7d7",
   "metadata": {},
   "outputs": [],
   "source": [
    "data={}\n",
    "for name, f in funcs.items():\n",
    "    Y=[]\n",
    "    for a, b in zip(A,B):\n",
    "        if a==1 and b==1:\n",
    "            Y.append(f[0])\n",
    "        if a==0 and b==1:\n",
    "            Y.append(f[1])\n",
    "        if a==1 and b==0:\n",
    "            Y.append(f[2])\n",
    "        if a==0 and b==0:\n",
    "            Y.append(f[3])\n",
    "    df = pd.DataFrame({'A':A, 'B':B, 'Y':Y})\n",
    "    data[name]=df\n",
    "        "
   ]
  },
  {
   "cell_type": "code",
   "execution_count": 6,
   "id": "21d5a53f",
   "metadata": {},
   "outputs": [],
   "source": [
    "SDA_s=[]\n",
    "SDA_ALT = []\n",
    "SDA_FULL = []\n",
    "causal_effectA_s = []\n",
    "interaction_s = []\n",
    "totalA_s =[]\n",
    "biasA_s = []\n",
    "\n",
    "SDB_s=[]\n",
    "causal_effectB_s = []\n",
    "totalB_s =[]\n",
    "biasB_s = []\n",
    "\n",
    "female_black_s = []\n",
    "male_black_s = []\n",
    "female_white_s = []\n",
    "male_white_s = []\n",
    "\n",
    "name_s=[]\n",
    "\n",
    "for name, df in data.items():\n",
    "    name_s.append(name)\n",
    "    PA1 = df[(df.A==1)&(df.Y==1)].shape[0]/df[(df.A==1)].shape[0]\n",
    "    PA0=df[(df.A==0)&(df.Y==1)].shape[0]/df[(df.A==0)].shape[0]\n",
    "    SDA = PA1-PA0\n",
    "    SDA_s.append(SDA)\n",
    "    PAB10 = df[(df.A==1)&(df.Y==1)&(df.B==0)].shape[0]/df[(df.A==1)&(df.B==0)].shape[0]\n",
    "    PAB00 = df[(df.A==0)&(df.Y==1)&(df.B==0)].shape[0]/df[(df.A==0)&(df.B==0)].shape[0]\n",
    "    PAB11 = df[(df.A==1)&(df.Y==1)&(df.B==1)].shape[0]/df[(df.A==1)&(df.B==1)].shape[0]\n",
    "    PAB01 = df[(df.A==0)&(df.Y==1)&(df.B==1)].shape[0]/df[(df.A==0)&(df.B==1)].shape[0]\n",
    "    causal_effectA = PAB10-PAB00\n",
    "    causal_effectA_s.append(causal_effectA)\n",
    "    interaction = PAB11 -PAB01-PAB10+ PAB00\n",
    "    interaction_s.append(interaction)\n",
    "    totalA =  causal_effectA+interaction\n",
    "    totalA_s.append(totalA)\n",
    "    biasA = SDA-totalA \n",
    "    biasA_s.append(biasA)\n",
    "    \n",
    "    ###\n",
    "    PB1 = df[(df.B==1)&(df.Y==1)].shape[0]/df[(df.B==1)].shape[0]\n",
    "    PB0= df[(df.B==0)&(df.Y==1)].shape[0]/df[(df.B==0)].shape[0]\n",
    "    SDB=PB1-PB0 \n",
    "    SDB_s.append(SDB)\n",
    "    PAB01 = df[(df.A==0)&(df.Y==1)&(df.B==1)].shape[0]/df[(df.A==0)&(df.B==1)].shape[0]\n",
    "    causal_effect_B = PAB01-PAB00\n",
    "    causal_effectB_s.append(causal_effect_B)\n",
    "    totalB = causal_effect_B+interaction\n",
    "    totalB_s.append(totalB)\n",
    "    biasB = SDB-totalB\n",
    "    biasB_s.append(biasB)\n",
    "    \n",
    "    ###\n",
    "    SDA_alt = PAB10-PAB01\n",
    "    SDA_ALT.append(SDA_alt)\n",
    "    PB1 = df[(df.B==1)].shape[0]/df.shape[0]\n",
    "    SDA_full = SDA_alt+ interaction*PB1\n",
    "    SDA_FULL.append(SDA_full)\n",
    "    \n",
    "    \n",
    "    ###\n",
    "    \n",
    "    female_black_s.append(PAB00)\n",
    "    male_black_s.append(PAB10)\n",
    " \n",
    "    female_white_s.append(PAB01)\n",
    "    male_white_s.append(PAB11)\n",
    "    \n",
    "results=pd.DataFrame({'Name': name_s,'SDA':SDA_s, 'SDA_ALT': SDA_ALT,'SDA_FULL':SDA_FULL, 'causal_effectA':causal_effectA_s, 'interaction':interaction_s,\n",
    "                    'totalA':totalA_s,'biasA':biasA_s, 'SDB':SDB_s, 'causal_effectB':causal_effectB_s,\n",
    "                     'totalB':totalB_s,'biasB':biasB_s, 'female_black':female_black_s, 'male_black':male_black_s,\n",
    "                    'female_white':female_white_s, 'male_white':male_white_s })\n",
    "    \n",
    "\n",
    "    "
   ]
  },
  {
   "cell_type": "code",
   "execution_count": 7,
   "id": "46090b1e",
   "metadata": {},
   "outputs": [],
   "source": [
    "df = data['preventive_antagonismB1A1']"
   ]
  },
  {
   "cell_type": "code",
   "execution_count": 8,
   "id": "da8ba3e3",
   "metadata": {
    "scrolled": false
   },
   "outputs": [
    {
     "data": {
      "text/plain": [
       "0.4973"
      ]
     },
     "execution_count": 8,
     "metadata": {},
     "output_type": "execute_result"
    }
   ],
   "source": [
    "df[(df.B==1)].shape[0]/df.shape[0]"
   ]
  },
  {
   "cell_type": "code",
   "execution_count": 9,
   "id": "1cc84d7a",
   "metadata": {},
   "outputs": [
    {
     "data": {
      "text/plain": [
       "-1.0"
      ]
     },
     "execution_count": 9,
     "metadata": {},
     "output_type": "execute_result"
    }
   ],
   "source": [
    "PAB10 = df[(df.A==1)&(df.Y==1)&(df.B==0)].shape[0]/df[(df.A==1)&(df.B==0)].shape[0]\n",
    "PAB01 = df[(df.A==0)&(df.Y==1)&(df.B==1)].shape[0]/df[(df.A==0)&(df.B==1)].shape[0]\n",
    "PAB10-PAB01"
   ]
  },
  {
   "cell_type": "code",
   "execution_count": 10,
   "id": "56106fd2",
   "metadata": {
    "scrolled": true
   },
   "outputs": [
    {
     "data": {
      "text/plain": [
       "-0.5044722719141324"
      ]
     },
     "execution_count": 10,
     "metadata": {},
     "output_type": "execute_result"
    }
   ],
   "source": [
    "PA1 = df[(df.A==1)&(df.Y==1)].shape[0]/df[(df.A==1)].shape[0]\n",
    "PA0=df[(df.A==0)&(df.Y==1)].shape[0]/df[(df.A==0)].shape[0]\n",
    "PA1-PA0"
   ]
  },
  {
   "cell_type": "code",
   "execution_count": 11,
   "id": "4dc03acf",
   "metadata": {
    "scrolled": true
   },
   "outputs": [
    {
     "data": {
      "text/html": [
       "<div>\n",
       "<style scoped>\n",
       "    .dataframe tbody tr th:only-of-type {\n",
       "        vertical-align: middle;\n",
       "    }\n",
       "\n",
       "    .dataframe tbody tr th {\n",
       "        vertical-align: top;\n",
       "    }\n",
       "\n",
       "    .dataframe thead th {\n",
       "        text-align: right;\n",
       "    }\n",
       "</style>\n",
       "<table border=\"1\" class=\"dataframe\">\n",
       "  <thead>\n",
       "    <tr style=\"text-align: right;\">\n",
       "      <th></th>\n",
       "      <th>Name</th>\n",
       "      <th>SDA</th>\n",
       "      <th>SDA_ALT</th>\n",
       "      <th>SDA_FULL</th>\n",
       "      <th>causal_effectA</th>\n",
       "      <th>interaction</th>\n",
       "      <th>totalA</th>\n",
       "      <th>biasA</th>\n",
       "      <th>SDB</th>\n",
       "      <th>causal_effectB</th>\n",
       "      <th>totalB</th>\n",
       "      <th>biasB</th>\n",
       "      <th>female_black</th>\n",
       "      <th>male_black</th>\n",
       "      <th>female_white</th>\n",
       "      <th>male_white</th>\n",
       "    </tr>\n",
       "  </thead>\n",
       "  <tbody>\n",
       "    <tr>\n",
       "      <th>0</th>\n",
       "      <td>no_effect(doomed)</td>\n",
       "      <td>0.000000</td>\n",
       "      <td>0.0</td>\n",
       "      <td>0.0000</td>\n",
       "      <td>0.0</td>\n",
       "      <td>0.0</td>\n",
       "      <td>0.0</td>\n",
       "      <td>0.000000</td>\n",
       "      <td>0.000000</td>\n",
       "      <td>0.0</td>\n",
       "      <td>0.0</td>\n",
       "      <td>0.000000</td>\n",
       "      <td>1.0</td>\n",
       "      <td>1.0</td>\n",
       "      <td>1.0</td>\n",
       "      <td>1.0</td>\n",
       "    </tr>\n",
       "    <tr>\n",
       "      <th>1</th>\n",
       "      <td>single_joint_causation</td>\n",
       "      <td>0.500906</td>\n",
       "      <td>0.0</td>\n",
       "      <td>-0.4973</td>\n",
       "      <td>1.0</td>\n",
       "      <td>-1.0</td>\n",
       "      <td>0.0</td>\n",
       "      <td>0.500906</td>\n",
       "      <td>0.495126</td>\n",
       "      <td>1.0</td>\n",
       "      <td>0.0</td>\n",
       "      <td>0.495126</td>\n",
       "      <td>0.0</td>\n",
       "      <td>1.0</td>\n",
       "      <td>1.0</td>\n",
       "      <td>1.0</td>\n",
       "    </tr>\n",
       "    <tr>\n",
       "      <th>2</th>\n",
       "      <td>preventive_antagonismB1A1</td>\n",
       "      <td>-0.504472</td>\n",
       "      <td>-1.0</td>\n",
       "      <td>-0.5027</td>\n",
       "      <td>-1.0</td>\n",
       "      <td>1.0</td>\n",
       "      <td>0.0</td>\n",
       "      <td>-0.504472</td>\n",
       "      <td>0.504874</td>\n",
       "      <td>0.0</td>\n",
       "      <td>1.0</td>\n",
       "      <td>-0.495126</td>\n",
       "      <td>1.0</td>\n",
       "      <td>0.0</td>\n",
       "      <td>1.0</td>\n",
       "      <td>1.0</td>\n",
       "    </tr>\n",
       "    <tr>\n",
       "      <th>3</th>\n",
       "      <td>inneffective_causal</td>\n",
       "      <td>-0.003567</td>\n",
       "      <td>-1.0</td>\n",
       "      <td>-1.0000</td>\n",
       "      <td>0.0</td>\n",
       "      <td>0.0</td>\n",
       "      <td>0.0</td>\n",
       "      <td>-0.003567</td>\n",
       "      <td>1.000000</td>\n",
       "      <td>1.0</td>\n",
       "      <td>1.0</td>\n",
       "      <td>0.000000</td>\n",
       "      <td>0.0</td>\n",
       "      <td>0.0</td>\n",
       "      <td>1.0</td>\n",
       "      <td>1.0</td>\n",
       "    </tr>\n",
       "    <tr>\n",
       "      <th>4</th>\n",
       "      <td>preventive_antagonismA1B1</td>\n",
       "      <td>0.499094</td>\n",
       "      <td>1.0</td>\n",
       "      <td>1.4973</td>\n",
       "      <td>0.0</td>\n",
       "      <td>1.0</td>\n",
       "      <td>1.0</td>\n",
       "      <td>-0.500906</td>\n",
       "      <td>-0.498693</td>\n",
       "      <td>-1.0</td>\n",
       "      <td>0.0</td>\n",
       "      <td>-0.498693</td>\n",
       "      <td>1.0</td>\n",
       "      <td>1.0</td>\n",
       "      <td>0.0</td>\n",
       "      <td>1.0</td>\n",
       "    </tr>\n",
       "    <tr>\n",
       "      <th>5</th>\n",
       "      <td>causal_ineffective</td>\n",
       "      <td>1.000000</td>\n",
       "      <td>1.0</td>\n",
       "      <td>1.0000</td>\n",
       "      <td>1.0</td>\n",
       "      <td>0.0</td>\n",
       "      <td>1.0</td>\n",
       "      <td>0.000000</td>\n",
       "      <td>-0.003567</td>\n",
       "      <td>0.0</td>\n",
       "      <td>0.0</td>\n",
       "      <td>-0.003567</td>\n",
       "      <td>0.0</td>\n",
       "      <td>1.0</td>\n",
       "      <td>0.0</td>\n",
       "      <td>1.0</td>\n",
       "    </tr>\n",
       "    <tr>\n",
       "      <th>6</th>\n",
       "      <td>preventive_antagonism_mutual</td>\n",
       "      <td>-0.005378</td>\n",
       "      <td>0.0</td>\n",
       "      <td>0.9946</td>\n",
       "      <td>-1.0</td>\n",
       "      <td>2.0</td>\n",
       "      <td>1.0</td>\n",
       "      <td>-1.005378</td>\n",
       "      <td>0.006181</td>\n",
       "      <td>-1.0</td>\n",
       "      <td>1.0</td>\n",
       "      <td>-0.993819</td>\n",
       "      <td>1.0</td>\n",
       "      <td>0.0</td>\n",
       "      <td>0.0</td>\n",
       "      <td>1.0</td>\n",
       "    </tr>\n",
       "    <tr>\n",
       "      <th>7</th>\n",
       "      <td>causal_synergism</td>\n",
       "      <td>0.495528</td>\n",
       "      <td>0.0</td>\n",
       "      <td>0.4973</td>\n",
       "      <td>0.0</td>\n",
       "      <td>1.0</td>\n",
       "      <td>1.0</td>\n",
       "      <td>-0.504472</td>\n",
       "      <td>0.501307</td>\n",
       "      <td>0.0</td>\n",
       "      <td>1.0</td>\n",
       "      <td>-0.498693</td>\n",
       "      <td>0.0</td>\n",
       "      <td>0.0</td>\n",
       "      <td>0.0</td>\n",
       "      <td>1.0</td>\n",
       "    </tr>\n",
       "    <tr>\n",
       "      <th>8</th>\n",
       "      <td>preventive_synergism</td>\n",
       "      <td>-0.495528</td>\n",
       "      <td>0.0</td>\n",
       "      <td>-0.4973</td>\n",
       "      <td>0.0</td>\n",
       "      <td>-1.0</td>\n",
       "      <td>-1.0</td>\n",
       "      <td>0.504472</td>\n",
       "      <td>-0.501307</td>\n",
       "      <td>0.0</td>\n",
       "      <td>-1.0</td>\n",
       "      <td>0.498693</td>\n",
       "      <td>1.0</td>\n",
       "      <td>1.0</td>\n",
       "      <td>1.0</td>\n",
       "      <td>0.0</td>\n",
       "    </tr>\n",
       "    <tr>\n",
       "      <th>9</th>\n",
       "      <td>mutual_blocage</td>\n",
       "      <td>0.005378</td>\n",
       "      <td>0.0</td>\n",
       "      <td>-0.9946</td>\n",
       "      <td>1.0</td>\n",
       "      <td>-2.0</td>\n",
       "      <td>-1.0</td>\n",
       "      <td>1.005378</td>\n",
       "      <td>-0.006181</td>\n",
       "      <td>1.0</td>\n",
       "      <td>-1.0</td>\n",
       "      <td>0.993819</td>\n",
       "      <td>0.0</td>\n",
       "      <td>1.0</td>\n",
       "      <td>1.0</td>\n",
       "      <td>0.0</td>\n",
       "    </tr>\n",
       "    <tr>\n",
       "      <th>10</th>\n",
       "      <td>preventive_ineffective</td>\n",
       "      <td>-1.000000</td>\n",
       "      <td>-1.0</td>\n",
       "      <td>-1.0000</td>\n",
       "      <td>-1.0</td>\n",
       "      <td>0.0</td>\n",
       "      <td>-1.0</td>\n",
       "      <td>0.000000</td>\n",
       "      <td>0.003567</td>\n",
       "      <td>0.0</td>\n",
       "      <td>0.0</td>\n",
       "      <td>0.003567</td>\n",
       "      <td>1.0</td>\n",
       "      <td>0.0</td>\n",
       "      <td>1.0</td>\n",
       "      <td>0.0</td>\n",
       "    </tr>\n",
       "    <tr>\n",
       "      <th>11</th>\n",
       "      <td>A1_blocks_B1</td>\n",
       "      <td>-0.499094</td>\n",
       "      <td>-1.0</td>\n",
       "      <td>-1.4973</td>\n",
       "      <td>0.0</td>\n",
       "      <td>-1.0</td>\n",
       "      <td>-1.0</td>\n",
       "      <td>0.500906</td>\n",
       "      <td>0.498693</td>\n",
       "      <td>1.0</td>\n",
       "      <td>0.0</td>\n",
       "      <td>0.498693</td>\n",
       "      <td>0.0</td>\n",
       "      <td>0.0</td>\n",
       "      <td>1.0</td>\n",
       "      <td>0.0</td>\n",
       "    </tr>\n",
       "    <tr>\n",
       "      <th>12</th>\n",
       "      <td>ineffective_preventive</td>\n",
       "      <td>0.003567</td>\n",
       "      <td>1.0</td>\n",
       "      <td>1.0000</td>\n",
       "      <td>0.0</td>\n",
       "      <td>0.0</td>\n",
       "      <td>0.0</td>\n",
       "      <td>0.003567</td>\n",
       "      <td>-1.000000</td>\n",
       "      <td>-1.0</td>\n",
       "      <td>-1.0</td>\n",
       "      <td>0.000000</td>\n",
       "      <td>1.0</td>\n",
       "      <td>1.0</td>\n",
       "      <td>0.0</td>\n",
       "      <td>0.0</td>\n",
       "    </tr>\n",
       "    <tr>\n",
       "      <th>13</th>\n",
       "      <td>B1_blocks_A1</td>\n",
       "      <td>0.504472</td>\n",
       "      <td>1.0</td>\n",
       "      <td>0.5027</td>\n",
       "      <td>1.0</td>\n",
       "      <td>-1.0</td>\n",
       "      <td>0.0</td>\n",
       "      <td>0.504472</td>\n",
       "      <td>-0.504874</td>\n",
       "      <td>0.0</td>\n",
       "      <td>-1.0</td>\n",
       "      <td>0.495126</td>\n",
       "      <td>0.0</td>\n",
       "      <td>1.0</td>\n",
       "      <td>0.0</td>\n",
       "      <td>0.0</td>\n",
       "    </tr>\n",
       "    <tr>\n",
       "      <th>14</th>\n",
       "      <td>single_joint_prevention</td>\n",
       "      <td>-0.500906</td>\n",
       "      <td>0.0</td>\n",
       "      <td>0.4973</td>\n",
       "      <td>-1.0</td>\n",
       "      <td>1.0</td>\n",
       "      <td>0.0</td>\n",
       "      <td>-0.500906</td>\n",
       "      <td>-0.495126</td>\n",
       "      <td>-1.0</td>\n",
       "      <td>0.0</td>\n",
       "      <td>-0.495126</td>\n",
       "      <td>1.0</td>\n",
       "      <td>0.0</td>\n",
       "      <td>0.0</td>\n",
       "      <td>0.0</td>\n",
       "    </tr>\n",
       "    <tr>\n",
       "      <th>15</th>\n",
       "      <td>no_effect(immune)</td>\n",
       "      <td>0.000000</td>\n",
       "      <td>0.0</td>\n",
       "      <td>0.0000</td>\n",
       "      <td>0.0</td>\n",
       "      <td>0.0</td>\n",
       "      <td>0.0</td>\n",
       "      <td>0.000000</td>\n",
       "      <td>0.000000</td>\n",
       "      <td>0.0</td>\n",
       "      <td>0.0</td>\n",
       "      <td>0.000000</td>\n",
       "      <td>0.0</td>\n",
       "      <td>0.0</td>\n",
       "      <td>0.0</td>\n",
       "      <td>0.0</td>\n",
       "    </tr>\n",
       "  </tbody>\n",
       "</table>\n",
       "</div>"
      ],
      "text/plain": [
       "                            Name       SDA  SDA_ALT  SDA_FULL  causal_effectA  \\\n",
       "0              no_effect(doomed)  0.000000      0.0    0.0000             0.0   \n",
       "1         single_joint_causation  0.500906      0.0   -0.4973             1.0   \n",
       "2      preventive_antagonismB1A1 -0.504472     -1.0   -0.5027            -1.0   \n",
       "3            inneffective_causal -0.003567     -1.0   -1.0000             0.0   \n",
       "4      preventive_antagonismA1B1  0.499094      1.0    1.4973             0.0   \n",
       "5             causal_ineffective  1.000000      1.0    1.0000             1.0   \n",
       "6   preventive_antagonism_mutual -0.005378      0.0    0.9946            -1.0   \n",
       "7               causal_synergism  0.495528      0.0    0.4973             0.0   \n",
       "8           preventive_synergism -0.495528      0.0   -0.4973             0.0   \n",
       "9                 mutual_blocage  0.005378      0.0   -0.9946             1.0   \n",
       "10        preventive_ineffective -1.000000     -1.0   -1.0000            -1.0   \n",
       "11                  A1_blocks_B1 -0.499094     -1.0   -1.4973             0.0   \n",
       "12        ineffective_preventive  0.003567      1.0    1.0000             0.0   \n",
       "13                  B1_blocks_A1  0.504472      1.0    0.5027             1.0   \n",
       "14       single_joint_prevention -0.500906      0.0    0.4973            -1.0   \n",
       "15             no_effect(immune)  0.000000      0.0    0.0000             0.0   \n",
       "\n",
       "    interaction  totalA     biasA       SDB  causal_effectB  totalB     biasB  \\\n",
       "0           0.0     0.0  0.000000  0.000000             0.0     0.0  0.000000   \n",
       "1          -1.0     0.0  0.500906  0.495126             1.0     0.0  0.495126   \n",
       "2           1.0     0.0 -0.504472  0.504874             0.0     1.0 -0.495126   \n",
       "3           0.0     0.0 -0.003567  1.000000             1.0     1.0  0.000000   \n",
       "4           1.0     1.0 -0.500906 -0.498693            -1.0     0.0 -0.498693   \n",
       "5           0.0     1.0  0.000000 -0.003567             0.0     0.0 -0.003567   \n",
       "6           2.0     1.0 -1.005378  0.006181            -1.0     1.0 -0.993819   \n",
       "7           1.0     1.0 -0.504472  0.501307             0.0     1.0 -0.498693   \n",
       "8          -1.0    -1.0  0.504472 -0.501307             0.0    -1.0  0.498693   \n",
       "9          -2.0    -1.0  1.005378 -0.006181             1.0    -1.0  0.993819   \n",
       "10          0.0    -1.0  0.000000  0.003567             0.0     0.0  0.003567   \n",
       "11         -1.0    -1.0  0.500906  0.498693             1.0     0.0  0.498693   \n",
       "12          0.0     0.0  0.003567 -1.000000            -1.0    -1.0  0.000000   \n",
       "13         -1.0     0.0  0.504472 -0.504874             0.0    -1.0  0.495126   \n",
       "14          1.0     0.0 -0.500906 -0.495126            -1.0     0.0 -0.495126   \n",
       "15          0.0     0.0  0.000000  0.000000             0.0     0.0  0.000000   \n",
       "\n",
       "    female_black  male_black  female_white  male_white  \n",
       "0            1.0         1.0           1.0         1.0  \n",
       "1            0.0         1.0           1.0         1.0  \n",
       "2            1.0         0.0           1.0         1.0  \n",
       "3            0.0         0.0           1.0         1.0  \n",
       "4            1.0         1.0           0.0         1.0  \n",
       "5            0.0         1.0           0.0         1.0  \n",
       "6            1.0         0.0           0.0         1.0  \n",
       "7            0.0         0.0           0.0         1.0  \n",
       "8            1.0         1.0           1.0         0.0  \n",
       "9            0.0         1.0           1.0         0.0  \n",
       "10           1.0         0.0           1.0         0.0  \n",
       "11           0.0         0.0           1.0         0.0  \n",
       "12           1.0         1.0           0.0         0.0  \n",
       "13           0.0         1.0           0.0         0.0  \n",
       "14           1.0         0.0           0.0         0.0  \n",
       "15           0.0         0.0           0.0         0.0  "
      ]
     },
     "execution_count": 11,
     "metadata": {},
     "output_type": "execute_result"
    }
   ],
   "source": [
    "results"
   ]
  },
  {
   "cell_type": "code",
   "execution_count": 12,
   "id": "ef7383a3",
   "metadata": {},
   "outputs": [],
   "source": [
    "import matplotlib.pyplot as plt"
   ]
  },
  {
   "cell_type": "code",
   "execution_count": 13,
   "id": "edcec2ef",
   "metadata": {},
   "outputs": [
    {
     "ename": "ValueError",
     "evalue": "Multi-dimensional indexing (e.g. `obj[:, None]`) is no longer supported. Convert to a numpy array before indexing instead.",
     "output_type": "error",
     "traceback": [
      "\u001b[0;31m---------------------------------------------------------------------------\u001b[0m",
      "\u001b[0;31mValueError\u001b[0m                                Traceback (most recent call last)",
      "\u001b[0;32m/var/folders/yb/dq6p4kvn3xd7hkm7yr8gydpm0000gn/T/ipykernel_26244/3943200884.py\u001b[0m in \u001b[0;36m<module>\u001b[0;34m\u001b[0m\n\u001b[0;32m----> 1\u001b[0;31m \u001b[0mplt\u001b[0m\u001b[0;34m.\u001b[0m\u001b[0mplot\u001b[0m\u001b[0;34m(\u001b[0m\u001b[0mresults\u001b[0m\u001b[0;34m.\u001b[0m\u001b[0minteraction\u001b[0m\u001b[0;34m,\u001b[0m \u001b[0mresults\u001b[0m\u001b[0;34m.\u001b[0m\u001b[0mbiasA\u001b[0m\u001b[0;34m)\u001b[0m\u001b[0;34m\u001b[0m\u001b[0;34m\u001b[0m\u001b[0m\n\u001b[0m",
      "\u001b[0;32m/opt/anaconda3/lib/python3.8/site-packages/matplotlib/pyplot.py\u001b[0m in \u001b[0;36mplot\u001b[0;34m(scalex, scaley, data, *args, **kwargs)\u001b[0m\n\u001b[1;32m   2755\u001b[0m \u001b[0;34m@\u001b[0m\u001b[0m_copy_docstring_and_deprecators\u001b[0m\u001b[0;34m(\u001b[0m\u001b[0mAxes\u001b[0m\u001b[0;34m.\u001b[0m\u001b[0mplot\u001b[0m\u001b[0;34m)\u001b[0m\u001b[0;34m\u001b[0m\u001b[0;34m\u001b[0m\u001b[0m\n\u001b[1;32m   2756\u001b[0m \u001b[0;32mdef\u001b[0m \u001b[0mplot\u001b[0m\u001b[0;34m(\u001b[0m\u001b[0;34m*\u001b[0m\u001b[0margs\u001b[0m\u001b[0;34m,\u001b[0m \u001b[0mscalex\u001b[0m\u001b[0;34m=\u001b[0m\u001b[0;32mTrue\u001b[0m\u001b[0;34m,\u001b[0m \u001b[0mscaley\u001b[0m\u001b[0;34m=\u001b[0m\u001b[0;32mTrue\u001b[0m\u001b[0;34m,\u001b[0m \u001b[0mdata\u001b[0m\u001b[0;34m=\u001b[0m\u001b[0;32mNone\u001b[0m\u001b[0;34m,\u001b[0m \u001b[0;34m**\u001b[0m\u001b[0mkwargs\u001b[0m\u001b[0;34m)\u001b[0m\u001b[0;34m:\u001b[0m\u001b[0;34m\u001b[0m\u001b[0;34m\u001b[0m\u001b[0m\n\u001b[0;32m-> 2757\u001b[0;31m     return gca().plot(\n\u001b[0m\u001b[1;32m   2758\u001b[0m         \u001b[0;34m*\u001b[0m\u001b[0margs\u001b[0m\u001b[0;34m,\u001b[0m \u001b[0mscalex\u001b[0m\u001b[0;34m=\u001b[0m\u001b[0mscalex\u001b[0m\u001b[0;34m,\u001b[0m \u001b[0mscaley\u001b[0m\u001b[0;34m=\u001b[0m\u001b[0mscaley\u001b[0m\u001b[0;34m,\u001b[0m\u001b[0;34m\u001b[0m\u001b[0;34m\u001b[0m\u001b[0m\n\u001b[1;32m   2759\u001b[0m         **({\"data\": data} if data is not None else {}), **kwargs)\n",
      "\u001b[0;32m/opt/anaconda3/lib/python3.8/site-packages/matplotlib/axes/_axes.py\u001b[0m in \u001b[0;36mplot\u001b[0;34m(self, scalex, scaley, data, *args, **kwargs)\u001b[0m\n\u001b[1;32m   1630\u001b[0m         \"\"\"\n\u001b[1;32m   1631\u001b[0m         \u001b[0mkwargs\u001b[0m \u001b[0;34m=\u001b[0m \u001b[0mcbook\u001b[0m\u001b[0;34m.\u001b[0m\u001b[0mnormalize_kwargs\u001b[0m\u001b[0;34m(\u001b[0m\u001b[0mkwargs\u001b[0m\u001b[0;34m,\u001b[0m \u001b[0mmlines\u001b[0m\u001b[0;34m.\u001b[0m\u001b[0mLine2D\u001b[0m\u001b[0;34m)\u001b[0m\u001b[0;34m\u001b[0m\u001b[0;34m\u001b[0m\u001b[0m\n\u001b[0;32m-> 1632\u001b[0;31m         \u001b[0mlines\u001b[0m \u001b[0;34m=\u001b[0m \u001b[0;34m[\u001b[0m\u001b[0;34m*\u001b[0m\u001b[0mself\u001b[0m\u001b[0;34m.\u001b[0m\u001b[0m_get_lines\u001b[0m\u001b[0;34m(\u001b[0m\u001b[0;34m*\u001b[0m\u001b[0margs\u001b[0m\u001b[0;34m,\u001b[0m \u001b[0mdata\u001b[0m\u001b[0;34m=\u001b[0m\u001b[0mdata\u001b[0m\u001b[0;34m,\u001b[0m \u001b[0;34m**\u001b[0m\u001b[0mkwargs\u001b[0m\u001b[0;34m)\u001b[0m\u001b[0;34m]\u001b[0m\u001b[0;34m\u001b[0m\u001b[0;34m\u001b[0m\u001b[0m\n\u001b[0m\u001b[1;32m   1633\u001b[0m         \u001b[0;32mfor\u001b[0m \u001b[0mline\u001b[0m \u001b[0;32min\u001b[0m \u001b[0mlines\u001b[0m\u001b[0;34m:\u001b[0m\u001b[0;34m\u001b[0m\u001b[0;34m\u001b[0m\u001b[0m\n\u001b[1;32m   1634\u001b[0m             \u001b[0mself\u001b[0m\u001b[0;34m.\u001b[0m\u001b[0madd_line\u001b[0m\u001b[0;34m(\u001b[0m\u001b[0mline\u001b[0m\u001b[0;34m)\u001b[0m\u001b[0;34m\u001b[0m\u001b[0;34m\u001b[0m\u001b[0m\n",
      "\u001b[0;32m/opt/anaconda3/lib/python3.8/site-packages/matplotlib/axes/_base.py\u001b[0m in \u001b[0;36m__call__\u001b[0;34m(self, data, *args, **kwargs)\u001b[0m\n\u001b[1;32m    310\u001b[0m                 \u001b[0mthis\u001b[0m \u001b[0;34m+=\u001b[0m \u001b[0margs\u001b[0m\u001b[0;34m[\u001b[0m\u001b[0;36m0\u001b[0m\u001b[0;34m]\u001b[0m\u001b[0;34m,\u001b[0m\u001b[0;34m\u001b[0m\u001b[0;34m\u001b[0m\u001b[0m\n\u001b[1;32m    311\u001b[0m                 \u001b[0margs\u001b[0m \u001b[0;34m=\u001b[0m \u001b[0margs\u001b[0m\u001b[0;34m[\u001b[0m\u001b[0;36m1\u001b[0m\u001b[0;34m:\u001b[0m\u001b[0;34m]\u001b[0m\u001b[0;34m\u001b[0m\u001b[0;34m\u001b[0m\u001b[0m\n\u001b[0;32m--> 312\u001b[0;31m             \u001b[0;32myield\u001b[0m \u001b[0;32mfrom\u001b[0m \u001b[0mself\u001b[0m\u001b[0;34m.\u001b[0m\u001b[0m_plot_args\u001b[0m\u001b[0;34m(\u001b[0m\u001b[0mthis\u001b[0m\u001b[0;34m,\u001b[0m \u001b[0mkwargs\u001b[0m\u001b[0;34m)\u001b[0m\u001b[0;34m\u001b[0m\u001b[0;34m\u001b[0m\u001b[0m\n\u001b[0m\u001b[1;32m    313\u001b[0m \u001b[0;34m\u001b[0m\u001b[0m\n\u001b[1;32m    314\u001b[0m     \u001b[0;32mdef\u001b[0m \u001b[0mget_next_color\u001b[0m\u001b[0;34m(\u001b[0m\u001b[0mself\u001b[0m\u001b[0;34m)\u001b[0m\u001b[0;34m:\u001b[0m\u001b[0;34m\u001b[0m\u001b[0;34m\u001b[0m\u001b[0m\n",
      "\u001b[0;32m/opt/anaconda3/lib/python3.8/site-packages/matplotlib/axes/_base.py\u001b[0m in \u001b[0;36m_plot_args\u001b[0;34m(self, tup, kwargs, return_kwargs)\u001b[0m\n\u001b[1;32m    485\u001b[0m \u001b[0;34m\u001b[0m\u001b[0m\n\u001b[1;32m    486\u001b[0m         \u001b[0;32mif\u001b[0m \u001b[0mlen\u001b[0m\u001b[0;34m(\u001b[0m\u001b[0mxy\u001b[0m\u001b[0;34m)\u001b[0m \u001b[0;34m==\u001b[0m \u001b[0;36m2\u001b[0m\u001b[0;34m:\u001b[0m\u001b[0;34m\u001b[0m\u001b[0;34m\u001b[0m\u001b[0m\n\u001b[0;32m--> 487\u001b[0;31m             \u001b[0mx\u001b[0m \u001b[0;34m=\u001b[0m \u001b[0m_check_1d\u001b[0m\u001b[0;34m(\u001b[0m\u001b[0mxy\u001b[0m\u001b[0;34m[\u001b[0m\u001b[0;36m0\u001b[0m\u001b[0;34m]\u001b[0m\u001b[0;34m)\u001b[0m\u001b[0;34m\u001b[0m\u001b[0;34m\u001b[0m\u001b[0m\n\u001b[0m\u001b[1;32m    488\u001b[0m             \u001b[0my\u001b[0m \u001b[0;34m=\u001b[0m \u001b[0m_check_1d\u001b[0m\u001b[0;34m(\u001b[0m\u001b[0mxy\u001b[0m\u001b[0;34m[\u001b[0m\u001b[0;36m1\u001b[0m\u001b[0;34m]\u001b[0m\u001b[0;34m)\u001b[0m\u001b[0;34m\u001b[0m\u001b[0;34m\u001b[0m\u001b[0m\n\u001b[1;32m    489\u001b[0m         \u001b[0;32melse\u001b[0m\u001b[0;34m:\u001b[0m\u001b[0;34m\u001b[0m\u001b[0;34m\u001b[0m\u001b[0m\n",
      "\u001b[0;32m/opt/anaconda3/lib/python3.8/site-packages/matplotlib/cbook/__init__.py\u001b[0m in \u001b[0;36m_check_1d\u001b[0;34m(x)\u001b[0m\n\u001b[1;32m   1325\u001b[0m                     message='Support for multi-dimensional indexing')\n\u001b[1;32m   1326\u001b[0m \u001b[0;34m\u001b[0m\u001b[0m\n\u001b[0;32m-> 1327\u001b[0;31m                 \u001b[0mndim\u001b[0m \u001b[0;34m=\u001b[0m \u001b[0mx\u001b[0m\u001b[0;34m[\u001b[0m\u001b[0;34m:\u001b[0m\u001b[0;34m,\u001b[0m \u001b[0;32mNone\u001b[0m\u001b[0;34m]\u001b[0m\u001b[0;34m.\u001b[0m\u001b[0mndim\u001b[0m\u001b[0;34m\u001b[0m\u001b[0;34m\u001b[0m\u001b[0m\n\u001b[0m\u001b[1;32m   1328\u001b[0m                 \u001b[0;31m# we have definitely hit a pandas index or series object\u001b[0m\u001b[0;34m\u001b[0m\u001b[0;34m\u001b[0m\u001b[0;34m\u001b[0m\u001b[0m\n\u001b[1;32m   1329\u001b[0m                 \u001b[0;31m# cast to a numpy array.\u001b[0m\u001b[0;34m\u001b[0m\u001b[0;34m\u001b[0m\u001b[0;34m\u001b[0m\u001b[0m\n",
      "\u001b[0;32m/opt/anaconda3/lib/python3.8/site-packages/pandas/core/series.py\u001b[0m in \u001b[0;36m__getitem__\u001b[0;34m(self, key)\u001b[0m\n\u001b[1;32m   1031\u001b[0m             \u001b[0;32mreturn\u001b[0m \u001b[0mself\u001b[0m\u001b[0;34m.\u001b[0m\u001b[0m_get_values\u001b[0m\u001b[0;34m(\u001b[0m\u001b[0mkey\u001b[0m\u001b[0;34m)\u001b[0m\u001b[0;34m\u001b[0m\u001b[0;34m\u001b[0m\u001b[0m\n\u001b[1;32m   1032\u001b[0m \u001b[0;34m\u001b[0m\u001b[0m\n\u001b[0;32m-> 1033\u001b[0;31m         \u001b[0;32mreturn\u001b[0m \u001b[0mself\u001b[0m\u001b[0;34m.\u001b[0m\u001b[0m_get_with\u001b[0m\u001b[0;34m(\u001b[0m\u001b[0mkey\u001b[0m\u001b[0;34m)\u001b[0m\u001b[0;34m\u001b[0m\u001b[0;34m\u001b[0m\u001b[0m\n\u001b[0m\u001b[1;32m   1034\u001b[0m \u001b[0;34m\u001b[0m\u001b[0m\n\u001b[1;32m   1035\u001b[0m     \u001b[0;32mdef\u001b[0m \u001b[0m_get_with\u001b[0m\u001b[0;34m(\u001b[0m\u001b[0mself\u001b[0m\u001b[0;34m,\u001b[0m \u001b[0mkey\u001b[0m\u001b[0;34m)\u001b[0m\u001b[0;34m:\u001b[0m\u001b[0;34m\u001b[0m\u001b[0;34m\u001b[0m\u001b[0m\n",
      "\u001b[0;32m/opt/anaconda3/lib/python3.8/site-packages/pandas/core/series.py\u001b[0m in \u001b[0;36m_get_with\u001b[0;34m(self, key)\u001b[0m\n\u001b[1;32m   1046\u001b[0m             )\n\u001b[1;32m   1047\u001b[0m         \u001b[0;32melif\u001b[0m \u001b[0misinstance\u001b[0m\u001b[0;34m(\u001b[0m\u001b[0mkey\u001b[0m\u001b[0;34m,\u001b[0m \u001b[0mtuple\u001b[0m\u001b[0;34m)\u001b[0m\u001b[0;34m:\u001b[0m\u001b[0;34m\u001b[0m\u001b[0;34m\u001b[0m\u001b[0m\n\u001b[0;32m-> 1048\u001b[0;31m             \u001b[0;32mreturn\u001b[0m \u001b[0mself\u001b[0m\u001b[0;34m.\u001b[0m\u001b[0m_get_values_tuple\u001b[0m\u001b[0;34m(\u001b[0m\u001b[0mkey\u001b[0m\u001b[0;34m)\u001b[0m\u001b[0;34m\u001b[0m\u001b[0;34m\u001b[0m\u001b[0m\n\u001b[0m\u001b[1;32m   1049\u001b[0m \u001b[0;34m\u001b[0m\u001b[0m\n\u001b[1;32m   1050\u001b[0m         \u001b[0;32melif\u001b[0m \u001b[0;32mnot\u001b[0m \u001b[0mis_list_like\u001b[0m\u001b[0;34m(\u001b[0m\u001b[0mkey\u001b[0m\u001b[0;34m)\u001b[0m\u001b[0;34m:\u001b[0m\u001b[0;34m\u001b[0m\u001b[0;34m\u001b[0m\u001b[0m\n",
      "\u001b[0;32m/opt/anaconda3/lib/python3.8/site-packages/pandas/core/series.py\u001b[0m in \u001b[0;36m_get_values_tuple\u001b[0;34m(self, key)\u001b[0m\n\u001b[1;32m   1080\u001b[0m             \u001b[0;31m# the asarray is needed to avoid returning a 2D DatetimeArray\u001b[0m\u001b[0;34m\u001b[0m\u001b[0;34m\u001b[0m\u001b[0;34m\u001b[0m\u001b[0m\n\u001b[1;32m   1081\u001b[0m             \u001b[0mresult\u001b[0m \u001b[0;34m=\u001b[0m \u001b[0mnp\u001b[0m\u001b[0;34m.\u001b[0m\u001b[0masarray\u001b[0m\u001b[0;34m(\u001b[0m\u001b[0mself\u001b[0m\u001b[0;34m.\u001b[0m\u001b[0m_values\u001b[0m\u001b[0;34m[\u001b[0m\u001b[0mkey\u001b[0m\u001b[0;34m]\u001b[0m\u001b[0;34m)\u001b[0m\u001b[0;34m\u001b[0m\u001b[0;34m\u001b[0m\u001b[0m\n\u001b[0;32m-> 1082\u001b[0;31m             \u001b[0mdisallow_ndim_indexing\u001b[0m\u001b[0;34m(\u001b[0m\u001b[0mresult\u001b[0m\u001b[0;34m)\u001b[0m\u001b[0;34m\u001b[0m\u001b[0;34m\u001b[0m\u001b[0m\n\u001b[0m\u001b[1;32m   1083\u001b[0m             \u001b[0;32mreturn\u001b[0m \u001b[0mresult\u001b[0m\u001b[0;34m\u001b[0m\u001b[0;34m\u001b[0m\u001b[0m\n\u001b[1;32m   1084\u001b[0m \u001b[0;34m\u001b[0m\u001b[0m\n",
      "\u001b[0;32m/opt/anaconda3/lib/python3.8/site-packages/pandas/core/indexers/utils.py\u001b[0m in \u001b[0;36mdisallow_ndim_indexing\u001b[0;34m(result)\u001b[0m\n\u001b[1;32m    341\u001b[0m     \"\"\"\n\u001b[1;32m    342\u001b[0m     \u001b[0;32mif\u001b[0m \u001b[0mnp\u001b[0m\u001b[0;34m.\u001b[0m\u001b[0mndim\u001b[0m\u001b[0;34m(\u001b[0m\u001b[0mresult\u001b[0m\u001b[0;34m)\u001b[0m \u001b[0;34m>\u001b[0m \u001b[0;36m1\u001b[0m\u001b[0;34m:\u001b[0m\u001b[0;34m\u001b[0m\u001b[0;34m\u001b[0m\u001b[0m\n\u001b[0;32m--> 343\u001b[0;31m         raise ValueError(\n\u001b[0m\u001b[1;32m    344\u001b[0m             \u001b[0;34m\"Multi-dimensional indexing (e.g. `obj[:, None]`) is no longer \"\u001b[0m\u001b[0;34m\u001b[0m\u001b[0;34m\u001b[0m\u001b[0m\n\u001b[1;32m    345\u001b[0m             \u001b[0;34m\"supported. Convert to a numpy array before indexing instead.\"\u001b[0m\u001b[0;34m\u001b[0m\u001b[0;34m\u001b[0m\u001b[0m\n",
      "\u001b[0;31mValueError\u001b[0m: Multi-dimensional indexing (e.g. `obj[:, None]`) is no longer supported. Convert to a numpy array before indexing instead."
     ]
    },
    {
     "data": {
      "image/png": "[encoded data removed]",
      "text/plain": [
       "<Figure size 432x288 with 1 Axes>"
      ]
     },
     "metadata": {
      "needs_background": "light"
     },
     "output_type": "display_data"
    }
   ],
   "source": [
    "plt.plot(results.interaction, results.biasA)"
   ]
  },
  {
   "cell_type": "code",
   "execution_count": 796,
   "id": "2778a085",
   "metadata": {},
   "outputs": [
    {
     "data": {
      "text/plain": [
       "<matplotlib.collections.PathCollection at 0x7f86cf271d30>"
      ]
     },
     "execution_count": 796,
     "metadata": {},
     "output_type": "execute_result"
    },
    {
     "data": {
      "image/png": "[encoded data removed]",
      "text/plain": [
       "<Figure size 432x288 with 1 Axes>"
      ]
     },
     "metadata": {
      "needs_background": "light"
     },
     "output_type": "display_data"
    }
   ],
   "source": [
    "plt.scatter(results.interaction, results.SDA)"
   ]
  },
  {
   "cell_type": "code",
   "execution_count": 792,
   "id": "643f3c2e",
   "metadata": {},
   "outputs": [
    {
     "data": {
      "text/plain": [
       "[<matplotlib.lines.Line2D at 0x7f86cef960a0>]"
      ]
     },
     "execution_count": 792,
     "metadata": {},
     "output_type": "execute_result"
    },
    {
     "data": {
      "image/png": "[encoded data removed]",
      "text/plain": [
       "<Figure size 432x288 with 1 Axes>"
      ]
     },
     "metadata": {
      "needs_background": "light"
     },
     "output_type": "display_data"
    }
   ],
   "source": [
    "plt.plot(results.interaction, results.biasB)"
   ]
  },
  {
   "cell_type": "code",
   "execution_count": 797,
   "id": "106c4572",
   "metadata": {
    "scrolled": true
   },
   "outputs": [
    {
     "data": {
      "text/plain": [
       "<matplotlib.collections.PathCollection at 0x7f86cf3cc1f0>"
      ]
     },
     "execution_count": 797,
     "metadata": {},
     "output_type": "execute_result"
    },
    {
     "data": {
      "image/png": "[encoded data removed]",
      "text/plain": [
       "<Figure size 432x288 with 1 Axes>"
      ]
     },
     "metadata": {
      "needs_background": "light"
     },
     "output_type": "display_data"
    }
   ],
   "source": [
    "plt.scatter(results.interaction, results.SDB)"
   ]
  },
  {
   "cell_type": "markdown",
   "id": "d322e24d",
   "metadata": {},
   "source": [
    "#### Linear Case Experiments Single Case"
   ]
  },
  {
   "cell_type": "code",
   "execution_count": 147,
   "id": "36e6343e",
   "metadata": {},
   "outputs": [],
   "source": [
    "a = np.random.binomial(1,0.6,1000)\n",
    "b = np.random.binomial(1,0.7,1000)\n",
    "c = np.random.normal(5,2,1000)\n",
    "\n",
    "inter= 3\n",
    "TcoefA= 0.5\n",
    "TcoefB= 0.9\n",
    "TcoefAB=0.9\n",
    "\n",
    "y = inter+TcoefA*a+TcoefB*b+TcoefAB*a*b\n",
    "df = pd.DataFrame({'A':a, 'B':b,  'Y':y })"
   ]
  },
  {
   "cell_type": "code",
   "execution_count": 148,
   "id": "3f7ec0c4",
   "metadata": {},
   "outputs": [
    {
     "name": "stdout",
     "output_type": "stream",
     "text": [
      "Confidence: 0.947890198453682\n",
      "coefA, coefB, coefAB 1.1131675037950373 1.4069745807956109\n",
      "TruecoefA, TruecoefB, TruecoefAB 0.5 0.9 0.9\n"
     ]
    }
   ],
   "source": [
    "import numpy as np\n",
    "from sklearn.linear_model import LinearRegression\n",
    "X=df.drop('Y', axis=1)\n",
    "y=df.Y\n",
    "reg = LinearRegression().fit(X, y)\n",
    "print('Confidence:',reg.score(X, y))\n",
    "EcoefA=reg.coef_[0]\n",
    "EcoefB=reg.coef_[1]\n",
    "print('coefA, coefB, coefAB',EcoefA, EcoefB)\n",
    "print('TruecoefA, TruecoefB, TruecoefAB',TcoefA,TcoefB,TcoefAB )"
   ]
  },
  {
   "cell_type": "code",
   "execution_count": 149,
   "id": "ac85fcba",
   "metadata": {
    "scrolled": true
   },
   "outputs": [
    {
     "data": {
      "text/plain": [
       "0.6131675037950373"
      ]
     },
     "execution_count": 149,
     "metadata": {},
     "output_type": "execute_result"
    }
   ],
   "source": [
    "bias = EcoefA- TcoefA\n",
    "bias"
   ]
  },
  {
   "cell_type": "code",
   "execution_count": 150,
   "id": "0c68f225",
   "metadata": {
    "scrolled": true
   },
   "outputs": [
    {
     "data": {
      "text/plain": [
       "False"
      ]
     },
     "execution_count": 150,
     "metadata": {},
     "output_type": "execute_result"
    }
   ],
   "source": [
    "EcoefA == TcoefA+TcoefAB"
   ]
  },
  {
   "cell_type": "code",
   "execution_count": 151,
   "id": "4ad22ee5",
   "metadata": {},
   "outputs": [
    {
     "data": {
      "text/plain": [
       "0.691"
      ]
     },
     "execution_count": 151,
     "metadata": {},
     "output_type": "execute_result"
    }
   ],
   "source": [
    "PB1 = df[df.B==1].shape[0]/df.shape[0]\n",
    "PB1"
   ]
  },
  {
   "cell_type": "code",
   "execution_count": 152,
   "id": "e2b609f8",
   "metadata": {
    "scrolled": false
   },
   "outputs": [
    {
     "name": "stdout",
     "output_type": "stream",
     "text": [
      "Biased coefA 1.11\n",
      "True coefA*coefAB*PB1 1.12\n",
      "equal: False\n"
     ]
    }
   ],
   "source": [
    "round(EcoefA,2) == round(TcoefA+TcoefAB*PB1,2)\n",
    "print('Biased coefA',round(EcoefA,2))\n",
    "print('True coefA*coefAB*PB1',round(TcoefA+TcoefAB*PB1,2))\n",
    "print('equal:',round(EcoefA,2) == round(TcoefA+TcoefAB*PB1,2))\n"
   ]
  },
  {
   "cell_type": "markdown",
   "id": "62cab452",
   "metadata": {},
   "source": [
    "#### Linear Case Experiments Intersectional Case"
   ]
  },
  {
   "cell_type": "code",
   "execution_count": 323,
   "id": "7aa11771",
   "metadata": {},
   "outputs": [],
   "source": [
    "a = np.random.binomial(1,0.3,1000)\n",
    "b = np.random.binomial(1,0.7,1000)\n",
    "c = np.random.normal(5,2,1000)\n",
    "\n",
    "inter= 3\n",
    "TcoefA= 0.5\n",
    "TcoefB= 0.1\n",
    "TcoefAB=0.8\n",
    "\n",
    "y = inter+TcoefA*a+TcoefB*b+TcoefAB*a*b\n",
    "df = pd.DataFrame({'A':a, 'B':b,  'Y':y })"
   ]
  },
  {
   "cell_type": "code",
   "execution_count": 324,
   "id": "2dab4176",
   "metadata": {},
   "outputs": [
    {
     "name": "stdout",
     "output_type": "stream",
     "text": [
      "Confidence: 0.915572559543448\n",
      "coefA, coefB, coefAB 1.092592662325284 0.3080757255185303\n",
      "TruecoefA, TruecoefB, TruecoefAB 0.5 0.1 0.8\n"
     ]
    }
   ],
   "source": [
    "import numpy as np\n",
    "from sklearn.linear_model import LinearRegression\n",
    "X=df.drop('Y', axis=1)\n",
    "y=df.Y\n",
    "reg = LinearRegression().fit(X, y)\n",
    "print('Confidence:',reg.score(X, y))\n",
    "EcoefA=reg.coef_[0]\n",
    "EcoefB=reg.coef_[1]\n",
    "print('coefA, coefB, coefAB',EcoefA, EcoefB)\n",
    "print('TruecoefA, TruecoefB, TruecoefAB',TcoefA,TcoefB,TcoefAB )"
   ]
  },
  {
   "cell_type": "code",
   "execution_count": 325,
   "id": "4843d5db",
   "metadata": {
    "scrolled": true
   },
   "outputs": [
    {
     "data": {
      "text/plain": [
       "0.8006683878438142"
      ]
     },
     "execution_count": 325,
     "metadata": {},
     "output_type": "execute_result"
    }
   ],
   "source": [
    "bias = (EcoefA+EcoefB)- (TcoefA+TcoefB)\n",
    "bias"
   ]
  },
  {
   "cell_type": "code",
   "execution_count": 326,
   "id": "3a626995",
   "metadata": {
    "scrolled": false
   },
   "outputs": [
    {
     "data": {
      "text/plain": [
       "0.714"
      ]
     },
     "execution_count": 326,
     "metadata": {},
     "output_type": "execute_result"
    }
   ],
   "source": [
    "PB1 = df[df.B==1].shape[0]/df.shape[0]\n",
    "PB1"
   ]
  },
  {
   "cell_type": "code",
   "execution_count": 327,
   "id": "c93b4281",
   "metadata": {
    "scrolled": false
   },
   "outputs": [
    {
     "data": {
      "text/plain": [
       "0.287"
      ]
     },
     "execution_count": 327,
     "metadata": {},
     "output_type": "execute_result"
    }
   ],
   "source": [
    "PA1 = df[df.A==1].shape[0]/df.shape[0]\n",
    "PA1"
   ]
  },
  {
   "cell_type": "code",
   "execution_count": 328,
   "id": "74d4aa29",
   "metadata": {
    "scrolled": true
   },
   "outputs": [
    {
     "name": "stdout",
     "output_type": "stream",
     "text": [
      "Biased coefA 1.09\n",
      "True coefA*coefAB*PB1 1.07\n",
      "equal: False\n"
     ]
    }
   ],
   "source": [
    "\n",
    "print('Biased coefA',round(EcoefA,2))\n",
    "print('True coefA*coefAB*PB1',round(TcoefA+TcoefAB*PB1,2))\n",
    "print('equal:',round(EcoefA,2) == round(TcoefA+TcoefAB*PB1,2))\n"
   ]
  },
  {
   "cell_type": "code",
   "execution_count": 329,
   "id": "b826f5e2",
   "metadata": {
    "scrolled": false
   },
   "outputs": [
    {
     "name": "stdout",
     "output_type": "stream",
     "text": [
      "Biased coefB 0.31\n",
      "True coefB*coefAB*PA1 0.33\n",
      "equal: False\n"
     ]
    }
   ],
   "source": [
    "print('Biased coefB',round(EcoefB,2))\n",
    "print('True coefB*coefAB*PA1',round(TcoefB+TcoefAB*PA1,2))\n",
    "print('equal:',round(EcoefB,2) == round(TcoefB+TcoefAB*PA1,2))"
   ]
  },
  {
   "cell_type": "code",
   "execution_count": 330,
   "id": "91971433",
   "metadata": {
    "scrolled": false
   },
   "outputs": [
    {
     "data": {
      "text/plain": [
       "0.8006683878438142"
      ]
     },
     "execution_count": 330,
     "metadata": {},
     "output_type": "execute_result"
    }
   ],
   "source": [
    "(EcoefA+EcoefB) -(TcoefB+TcoefA)"
   ]
  },
  {
   "cell_type": "code",
   "execution_count": 331,
   "id": "b21c6600",
   "metadata": {
    "scrolled": true
   },
   "outputs": [
    {
     "data": {
      "text/plain": [
       "0.8"
      ]
     },
     "execution_count": 331,
     "metadata": {},
     "output_type": "execute_result"
    }
   ],
   "source": [
    "TcoefAB"
   ]
  },
  {
   "cell_type": "code",
   "execution_count": 332,
   "id": "4e08531a",
   "metadata": {
    "scrolled": true
   },
   "outputs": [
    {
     "data": {
      "text/plain": [
       "1.4"
      ]
     },
     "execution_count": 332,
     "metadata": {},
     "output_type": "execute_result"
    }
   ],
   "source": [
    "TcoefB+TcoefA+TcoefAB"
   ]
  },
  {
   "cell_type": "code",
   "execution_count": 177,
   "id": "91292aea",
   "metadata": {},
   "outputs": [
    {
     "name": "stdout",
     "output_type": "stream",
     "text": [
      "Biased coefA 2.44\n",
      "True coefA*coefAB*PB1 2.3\n",
      "equal: False\n"
     ]
    }
   ],
   "source": [
    "round(EcoefA+EcoefB,2) == round(TcoefA+TcoefB+TcoefAB,2)\n",
    "print('Biased coefA',round(EcoefA+EcoefB,2))\n",
    "print('True coefA*coefAB*PB1',round(TcoefA+TcoefB+TcoefAB,2))\n",
    "print('equal:',round(EcoefA+EcoefB,2) == round(TcoefA+TcoefAB,2))"
   ]
  },
  {
   "cell_type": "markdown",
   "id": "313314db",
   "metadata": {},
   "source": [
    "Second case"
   ]
  },
  {
   "cell_type": "code",
   "execution_count": 18,
   "id": "195fffc2",
   "metadata": {},
   "outputs": [],
   "source": [
    "a = np.random.normal(10,5,1000)\n",
    "b = np.random.normal(10,3,1000)\n",
    "c = np.random.normal(5,2,1000)\n",
    "y = 3+0.5*a+0.7*b+0.2*c\n",
    "df = pd.DataFrame({'A':a, 'B':b, 'C':c, 'Y':y })"
   ]
  },
  {
   "cell_type": "code",
   "execution_count": 19,
   "id": "6144b75b",
   "metadata": {},
   "outputs": [
    {
     "name": "stdout",
     "output_type": "stream",
     "text": [
      "1.0 [0.5 0.7 0.2] 2.9999999999999982\n"
     ]
    }
   ],
   "source": [
    "X=df.drop('Y', axis=1)\n",
    "y=df.Y\n",
    "reg = LinearRegression().fit(X, y)\n",
    "print(reg.score(X, y), reg.coef_, reg.intercept_)"
   ]
  },
  {
   "cell_type": "markdown",
   "id": "b4528bac",
   "metadata": {},
   "source": [
    "Third Case"
   ]
  },
  {
   "cell_type": "code",
   "execution_count": 20,
   "id": "175cfabf",
   "metadata": {},
   "outputs": [],
   "source": [
    "a = np.random.binomial(1,0.5,1000)\n",
    "b = np.random.binomial(1,0.5,1000)\n",
    "c = np.random.normal(5,2,1000)\n",
    "y = 3+0.5*a+0.7*b+0.2*c\n",
    "df = pd.DataFrame({'A':a, 'B':b, 'C':c, 'Y':y })"
   ]
  },
  {
   "cell_type": "code",
   "execution_count": 21,
   "id": "eac403d5",
   "metadata": {},
   "outputs": [
    {
     "name": "stdout",
     "output_type": "stream",
     "text": [
      "1.0 [0.5 0.7 0.2] 3.000000000000001\n"
     ]
    }
   ],
   "source": [
    "X=df.drop('Y', axis=1)\n",
    "y=df.Y\n",
    "reg = LinearRegression().fit(X, y)\n",
    "print(reg.score(X, y), reg.coef_, reg.intercept_)"
   ]
  },
  {
   "cell_type": "markdown",
   "id": "e9b2a8e7",
   "metadata": {},
   "source": [
    "Fourth Case"
   ]
  },
  {
   "cell_type": "code",
   "execution_count": 22,
   "id": "6f44e9bb",
   "metadata": {},
   "outputs": [],
   "source": [
    "pa=0.9\n",
    "pb = 0.5\n",
    "a = np.random.binomial(1,pa,10000)\n",
    "b = np.random.binomial(1,pb,10000)\n",
    "c = np.random.normal(5,2,10000)\n",
    "y = 3+0.3*a+0.5*b+0.6*a*b+0.2*c\n",
    "df = pd.DataFrame({'A':a, 'B':b, 'C':c, 'Y':y })"
   ]
  },
  {
   "cell_type": "code",
   "execution_count": 23,
   "id": "e3f8f3f8",
   "metadata": {},
   "outputs": [
    {
     "name": "stdout",
     "output_type": "stream",
     "text": [
      "0.9830976596122437 [0.60216632 1.04148298 0.20112588] 2.7206390232861666\n"
     ]
    }
   ],
   "source": [
    "X=df.drop('Y', axis=1)\n",
    "y=df.Y\n",
    "reg = LinearRegression().fit(X, y)\n",
    "print(reg.score(X, y), reg.coef_, reg.intercept_)\n",
    "print(reg.score(X, y), reg.coef_, reg.intercept_)"
   ]
  },
  {
   "cell_type": "code",
   "execution_count": 25,
   "id": "deb6fa72",
   "metadata": {
    "scrolled": true
   },
   "outputs": [
    {
     "data": {
      "text/plain": [
       "0.24364929877058916"
      ]
     },
     "execution_count": 25,
     "metadata": {},
     "output_type": "execute_result"
    }
   ],
   "source": [
    "reg.coef_[0]+reg.coef_[1] - (0.3+0.5+0.6)"
   ]
  },
  {
   "cell_type": "code",
   "execution_count": 26,
   "id": "19648b1e",
   "metadata": {},
   "outputs": [
    {
     "data": {
      "text/plain": [
       "1.4"
      ]
     },
     "execution_count": 26,
     "metadata": {},
     "output_type": "execute_result"
    }
   ],
   "source": [
    "(0.3+0.5+0.6)"
   ]
  },
  {
   "cell_type": "code",
   "execution_count": 27,
   "id": "3847b894",
   "metadata": {
    "scrolled": true
   },
   "outputs": [
    {
     "data": {
      "text/plain": [
       "1.4036492987705889"
      ]
     },
     "execution_count": 27,
     "metadata": {},
     "output_type": "execute_result"
    }
   ],
   "source": [
    "((reg.coef_[0]-(pa*0.6))+(reg.coef_[1]-pb*0.6) +0.6 )"
   ]
  },
  {
   "cell_type": "code",
   "execution_count": 28,
   "id": "351b2f64",
   "metadata": {},
   "outputs": [
    {
     "data": {
      "text/plain": [
       "0.54"
      ]
     },
     "execution_count": 28,
     "metadata": {},
     "output_type": "execute_result"
    }
   ],
   "source": [
    "pa*0.6"
   ]
  },
  {
   "cell_type": "code",
   "execution_count": 29,
   "id": "f6234baa",
   "metadata": {
    "scrolled": true
   },
   "outputs": [
    {
     "data": {
      "text/plain": [
       "1.4"
      ]
     },
     "execution_count": 29,
     "metadata": {},
     "output_type": "execute_result"
    }
   ],
   "source": [
    "(0.3+0.5+0.6)"
   ]
  },
  {
   "cell_type": "code",
   "execution_count": 30,
   "id": "75f9c1e4",
   "metadata": {
    "scrolled": true
   },
   "outputs": [
    {
     "data": {
      "text/plain": [
       "1.643649298770589"
      ]
     },
     "execution_count": 30,
     "metadata": {},
     "output_type": "execute_result"
    }
   ],
   "source": [
    "reg.coef_[0]+reg.coef_[1]"
   ]
  },
  {
   "cell_type": "code",
   "execution_count": 31,
   "id": "87463e3e",
   "metadata": {
    "scrolled": true
   },
   "outputs": [
    {
     "data": {
      "text/html": [
       "<div>\n",
       "<style scoped>\n",
       "    .dataframe tbody tr th:only-of-type {\n",
       "        vertical-align: middle;\n",
       "    }\n",
       "\n",
       "    .dataframe tbody tr th {\n",
       "        vertical-align: top;\n",
       "    }\n",
       "\n",
       "    .dataframe thead th {\n",
       "        text-align: right;\n",
       "    }\n",
       "</style>\n",
       "<table border=\"1\" class=\"dataframe\">\n",
       "  <thead>\n",
       "    <tr style=\"text-align: right;\">\n",
       "      <th></th>\n",
       "      <th>A</th>\n",
       "      <th>B</th>\n",
       "      <th>C</th>\n",
       "    </tr>\n",
       "  </thead>\n",
       "  <tbody>\n",
       "    <tr>\n",
       "      <th>3</th>\n",
       "      <td>1</td>\n",
       "      <td>0</td>\n",
       "      <td>5.171250</td>\n",
       "    </tr>\n",
       "    <tr>\n",
       "      <th>8</th>\n",
       "      <td>1</td>\n",
       "      <td>0</td>\n",
       "      <td>2.489921</td>\n",
       "    </tr>\n",
       "    <tr>\n",
       "      <th>9</th>\n",
       "      <td>0</td>\n",
       "      <td>0</td>\n",
       "      <td>5.285740</td>\n",
       "    </tr>\n",
       "    <tr>\n",
       "      <th>13</th>\n",
       "      <td>0</td>\n",
       "      <td>0</td>\n",
       "      <td>5.759287</td>\n",
       "    </tr>\n",
       "    <tr>\n",
       "      <th>17</th>\n",
       "      <td>1</td>\n",
       "      <td>0</td>\n",
       "      <td>6.790254</td>\n",
       "    </tr>\n",
       "    <tr>\n",
       "      <th>...</th>\n",
       "      <td>...</td>\n",
       "      <td>...</td>\n",
       "      <td>...</td>\n",
       "    </tr>\n",
       "    <tr>\n",
       "      <th>9993</th>\n",
       "      <td>1</td>\n",
       "      <td>0</td>\n",
       "      <td>0.642961</td>\n",
       "    </tr>\n",
       "    <tr>\n",
       "      <th>9995</th>\n",
       "      <td>1</td>\n",
       "      <td>0</td>\n",
       "      <td>4.230574</td>\n",
       "    </tr>\n",
       "    <tr>\n",
       "      <th>9996</th>\n",
       "      <td>1</td>\n",
       "      <td>0</td>\n",
       "      <td>6.157124</td>\n",
       "    </tr>\n",
       "    <tr>\n",
       "      <th>9998</th>\n",
       "      <td>1</td>\n",
       "      <td>0</td>\n",
       "      <td>6.742476</td>\n",
       "    </tr>\n",
       "    <tr>\n",
       "      <th>9999</th>\n",
       "      <td>1</td>\n",
       "      <td>0</td>\n",
       "      <td>4.033152</td>\n",
       "    </tr>\n",
       "  </tbody>\n",
       "</table>\n",
       "<p>5126 rows × 3 columns</p>\n",
       "</div>"
      ],
      "text/plain": [
       "      A  B         C\n",
       "3     1  0  5.171250\n",
       "8     1  0  2.489921\n",
       "9     0  0  5.285740\n",
       "13    0  0  5.759287\n",
       "17    1  0  6.790254\n",
       "...  .. ..       ...\n",
       "9993  1  0  0.642961\n",
       "9995  1  0  4.230574\n",
       "9996  1  0  6.157124\n",
       "9998  1  0  6.742476\n",
       "9999  1  0  4.033152\n",
       "\n",
       "[5126 rows x 3 columns]"
      ]
     },
     "execution_count": 31,
     "metadata": {},
     "output_type": "execute_result"
    }
   ],
   "source": [
    "X[X.B==0]"
   ]
  }
 ],
 "metadata": {
  "kernelspec": {
   "display_name": "Python 3 (ipykernel)",
   "language": "python",
   "name": "python3"
  },
  "language_info": {
   "codemirror_mode": {
    "name": "ipython",
    "version": 3
   },
   "file_extension": ".py",
   "mimetype": "text/x-python",
   "name": "python",
   "nbconvert_exporter": "python",
   "pygments_lexer": "ipython3",
   "version": "3.8.2"
  }
 },
 "nbformat": 4,
 "nbformat_minor": 5
}
