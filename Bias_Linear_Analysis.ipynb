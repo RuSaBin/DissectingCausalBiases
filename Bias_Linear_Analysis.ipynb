{
 "cells": [
  {
   "cell_type": "code",
   "execution_count": 1,
   "id": "83576e00",
   "metadata": {},
   "outputs": [],
   "source": [
    "import random"
   ]
  },
  {
   "cell_type": "code",
   "execution_count": 23,
   "id": "3d1e238f",
   "metadata": {},
   "outputs": [],
   "source": [
    "import numpy as np"
   ]
  },
  {
   "cell_type": "code",
   "execution_count": 32,
   "id": "528468cc",
   "metadata": {},
   "outputs": [],
   "source": [
    "import statistics as st"
   ]
  },
  {
   "cell_type": "code",
   "execution_count": 65,
   "id": "c7801e80",
   "metadata": {},
   "outputs": [],
   "source": [
    "from sklearn import linear_model, metrics"
   ]
  },
  {
   "cell_type": "code",
   "execution_count": 2,
   "id": "89dcd518",
   "metadata": {},
   "outputs": [
    {
     "data": {
      "text/plain": [
       "0.25341569862070523"
      ]
     },
     "execution_count": 2,
     "metadata": {},
     "output_type": "execute_result"
    }
   ],
   "source": [
    "random.random()"
   ]
  },
  {
   "cell_type": "code",
   "execution_count": 3,
   "id": "1954904f",
   "metadata": {},
   "outputs": [
    {
     "data": {
      "text/plain": [
       "[0.5014919954296959,\n",
       " 0.8135228884117683,\n",
       " 0.8695575682923019,\n",
       " 0.013628941829058938,\n",
       " 0.004942654816064818]"
      ]
     },
     "execution_count": 3,
     "metadata": {},
     "output_type": "execute_result"
    }
   ],
   "source": [
    "[random.random() for _ in range(5)]"
   ]
  },
  {
   "cell_type": "code",
   "execution_count": 19,
   "id": "7e958ca8",
   "metadata": {},
   "outputs": [],
   "source": [
    "seedArray = [random.random() for _ in range(5)]"
   ]
  },
  {
   "cell_type": "code",
   "execution_count": 24,
   "id": "34bb34be",
   "metadata": {},
   "outputs": [],
   "source": [
    "Y = np.asarray(seedArray)"
   ]
  },
  {
   "cell_type": "code",
   "execution_count": 26,
   "id": "b4e2db97",
   "metadata": {},
   "outputs": [],
   "source": [
    "Y = Y * 2"
   ]
  },
  {
   "cell_type": "code",
   "execution_count": 27,
   "id": "ec8e634a",
   "metadata": {},
   "outputs": [
    {
     "data": {
      "text/plain": [
       "array([0.7391317 , 0.80129404, 1.12298677, 1.83028935, 0.15818774])"
      ]
     },
     "execution_count": 27,
     "metadata": {},
     "output_type": "execute_result"
    }
   ],
   "source": [
    "Y"
   ]
  },
  {
   "cell_type": "code",
   "execution_count": 16,
   "id": "9c86dc4b",
   "metadata": {},
   "outputs": [
    {
     "data": {
      "text/plain": [
       "-0.05288874820228295"
      ]
     },
     "execution_count": 16,
     "metadata": {},
     "output_type": "execute_result"
    }
   ],
   "source": [
    "random.gauss(0,0.1)"
   ]
  },
  {
   "cell_type": "code",
   "execution_count": 103,
   "id": "5619cef7",
   "metadata": {},
   "outputs": [],
   "source": [
    "def printStats():\n",
    "    print('Var(Z) = ', st.variance(Z))\n",
    "    print('Var(X) = ', st.variance(X))\n",
    "    print('Var(Y) = ', st.variance(Y))\n",
    "    print('Cov(Z,X) = ', np.cov(Z,X)[0,1])\n",
    "    print('Cov(Z,Y) = ', np.cov(Z,Y)[0,1])\n",
    "    print('Cov(X,Y) = ', np.cov(Y,X)[0,1])\n",
    "    lin_modelXZ = linear_model.LinearRegression()\n",
    "    lin_modelXZ.fit(Z.reshape(-1,1), X.reshape(-1,1))\n",
    "    print('Regression coefficient X on Z (gamma)', lin_modelXZ.coef_[0,0], 'Ux = ', lin_modelXZ.intercept_[0]) \n",
    "    lin_modelYXZ = linear_model.LinearRegression()\n",
    "    lin_modelYXZ.fit(np.transpose(np.vstack((X,Z))), Y.reshape(-1,1))\n",
    "    print('Regression coefficient Y on X and Z: alpha = ', lin_modelYXZ.coef_[0,0], ', beta = ', lin_modelYXZ.coef_[0,1], ', Uy = ', lin_modelYXZ.intercept_)\n",
    "    print('Corr(Z,X) = ', np.corrcoef(Z,X)[0,1])\n",
    "    print('Corr(Z,Y) = ', np.corrcoef(Z,Y)[0,1])\n",
    "    print('Corr(X,Y) = ', np.corrcoef(Y,X)[0,1])"
   ]
  },
  {
   "cell_type": "code",
   "execution_count": 126,
   "id": "0942ef8f",
   "metadata": {},
   "outputs": [],
   "source": [
    "def printStats2():\n",
    "    print('Var(Z) = ', st.variance(Z))\n",
    "    print('Var(X) = ', st.variance(X))\n",
    "    print('Var(Y) = ', st.variance(Y))\n",
    "    print('Var(W) = ', st.variance(W))\n",
    "    print('Cov(Z,X) = ', np.cov(Z,X)[0,1])\n",
    "    print('Cov(Z,Y) = ', np.cov(Z,Y)[0,1])\n",
    "    print('Cov(X,Y) = ', np.cov(Y,X)[0,1])\n",
    "    print('Cov(W,Y) = ', np.cov(Y,W)[0,1])\n",
    "    lin_modelXZ = linear_model.LinearRegression()\n",
    "    lin_modelXZ.fit(Z.reshape(-1,1), X.reshape(-1,1))\n",
    "    print('Regression coefficient X on Z (gamma)', lin_modelXZ.coef_[0,0], 'Ux = ', lin_modelXZ.intercept_[0]) \n",
    "    lin_modelYZ = linear_model.LinearRegression()\n",
    "    lin_modelYZ.fit(Z.reshape(-1,1), Y.reshape(-1,1))\n",
    "    print('Regression coefficient Y on Z: beta = ', lin_modelYZ.coef_[0,0], ', Uy = ', lin_modelYZ.intercept_)\n",
    "    lin_modelWY = linear_model.LinearRegression()\n",
    "    lin_modelWY.fit(W.reshape(-1,1), Y.reshape(-1,1))\n",
    "    print('Regression coefficient Y on W (beta)', lin_modelWY.coef_[0,0], 'Uy = ', lin_modelWY.intercept_[0])\n",
    "    print('Corr(Z,X) = ', np.corrcoef(Z,X)[0,1])\n",
    "    print('Corr(Z,Y) = ', np.corrcoef(Z,Y)[0,1])\n",
    "    print('Corr(X,Y) = ', np.corrcoef(Y,X)[0,1])\n",
    "    print('Corr(W,Y) = ', np.corrcoef(Y,W)[0,1])"
   ]
  },
  {
   "cell_type": "code",
   "execution_count": 117,
   "id": "70abbeeb",
   "metadata": {},
   "outputs": [],
   "source": [
    "n=10000\n",
    "alpha = 2\n",
    "beta = 0.5\n",
    "gamma = 2\n",
    "Ux = np.asarray([random.gauss(0,1) for _ in range(n)])\n",
    "Uz = np.asarray([random.gauss(0,1) for _ in range(n)])\n",
    "Uy = np.asarray([random.gauss(0,1) for _ in range(n)])\n",
    "\n",
    "Z = Uz\n",
    "X = gamma * Z + Ux\n",
    "Y = alpha * X + beta * Z + Uy"
   ]
  },
  {
   "cell_type": "code",
   "execution_count": 118,
   "id": "e369f76a",
   "metadata": {},
   "outputs": [
    {
     "name": "stdout",
     "output_type": "stream",
     "text": [
      "Var(Z) =  1.001277674307109\n",
      "Var(X) =  5.028725925381718\n",
      "Var(Y) =  25.535245839085476\n",
      "Cov(Z,X) =  2.0121828766823064\n",
      "Cov(Z,Y) =  4.541106118847287\n",
      "Cov(X,Y) =  11.096078063976092\n",
      "Regression coefficient X on Z (gamma) 2.009615242919255 Ux =  -0.011137591107989675\n",
      "Regression coefficient Y on X and Z: alpha =  2.0001795896995644 , beta =  0.515720075873778 , Uy =  [0.01172765]\n",
      "Corr(Z,X) =  0.8967289677240959\n",
      "Corr(Z,Y) =  0.898078630875765\n",
      "Corr(X,Y) =  0.9791979567122366\n"
     ]
    }
   ],
   "source": [
    "printStats()"
   ]
  },
  {
   "cell_type": "code",
   "execution_count": 102,
   "id": "d3ff0b93",
   "metadata": {},
   "outputs": [
    {
     "name": "stdout",
     "output_type": "stream",
     "text": [
      "Var(Z) =  1.0092419610619592\n",
      "Var(X) =  5.076759793932457\n",
      "Var(Y) =  25.584156637780815\n",
      "Cov(Z,X) =  2.028452727924502\n",
      "Cov(Z,Y) =  4.550388720358701\n",
      "Cov(X,Y) =  11.162379753326736\n",
      "Regression coefficient X on Z (gamma) 2.009877518162339 Ux =  -0.0004055582248648146\n",
      "Regression coefficient Y on X and Z: alpha =  2.0170223401843654 , beta =  0.45475145686980484 , Uy =  [0.00762396]\n",
      "Corr(Z,X) =  0.8961360200685252\n",
      "Corr(Z,Y) =  0.8954993935941485\n",
      "Corr(X,Y) =  0.9794402180019317\n"
     ]
    }
   ],
   "source": [
    "print('Var(Z) = ', st.variance(Z))\n",
    "print('Var(X) = ', st.variance(X))\n",
    "print('Var(Y) = ', st.variance(Y))\n",
    "print('Cov(Z,X) = ', np.cov(Z,X)[0,1])\n",
    "print('Cov(Z,Y) = ', np.cov(Z,Y)[0,1])\n",
    "print('Cov(X,Y) = ', np.cov(Y,X)[0,1])\n",
    "lin_modelXZ = linear_model.LinearRegression()\n",
    "lin_modelXZ.fit(Z.reshape(-1,1), X.reshape(-1,1))\n",
    "print('Regression coefficient X on Z (gamma)', lin_modelXZ.coef_[0,0], 'Ux = ', lin_modelXZ.intercept_[0]) \n",
    "lin_modelYXZ = linear_model.LinearRegression()\n",
    "lin_modelYXZ.fit(np.transpose(np.vstack((X,Z))), Y.reshape(-1,1))\n",
    "print('Regression coefficient Y on X and Z: alpha = ', lin_modelYXZ.coef_[0,0], ', beta = ', lin_modelYXZ.coef_[0,1], ', Uy = ', lin_modelYXZ.intercept_)\n",
    "print('Corr(Z,X) = ', np.corrcoef(Z,X)[0,1])\n",
    "print('Corr(Z,Y) = ', np.corrcoef(Z,Y)[0,1])\n",
    "print('Corr(X,Y) = ', np.corrcoef(Y,X)[0,1])\n"
   ]
  },
  {
   "cell_type": "code",
   "execution_count": 128,
   "id": "29bbec32",
   "metadata": {},
   "outputs": [],
   "source": [
    "n=10000\n",
    "alpha = 2\n",
    "beta = 0.5\n",
    "gamma = 1\n",
    "Ux = np.asarray([random.gauss(0,1) for _ in range(n)])\n",
    "Uz = np.asarray([random.gauss(0,1) for _ in range(n)])\n",
    "Uy = np.asarray([random.gauss(0,1) for _ in range(n)])\n",
    "Uw = np.asarray([random.gauss(0,1) for _ in range(n)])\n",
    "\n",
    "Z = alpha * X + Uz\n",
    "X = Ux\n",
    "W = gamma * Z + Uw\n",
    "Y = beta * Z + Uy"
   ]
  },
  {
   "cell_type": "code",
   "execution_count": 129,
   "id": "63dba55f",
   "metadata": {},
   "outputs": [
    {
     "name": "stdout",
     "output_type": "stream",
     "text": [
      "Var(Z) =  5.067890888349403\n",
      "Var(X) =  1.0051959200692604\n",
      "Var(Y) =  2.198928100306191\n",
      "Var(W) =  6.103794541194123\n",
      "Cov(Z,X) =  -0.025881303504756988\n",
      "Cov(Z,Y) =  2.4802417249700834\n",
      "Cov(X,Y) =  -0.021827598701739663\n",
      "Cov(W,Y) =  2.502585779925685\n",
      "Regression coefficient X on Z (gamma) -0.005106918060184721 Ux =  -0.00606885417866493\n",
      "Regression coefficient Y on Z: beta =  0.4894031421773346 , Uy =  [0.01377525]\n",
      "Regression coefficient Y on W (beta) 0.4100049179302954 Uy =  0.009273622196511027\n",
      "Corr(Z,X) =  -0.011466929940219611\n",
      "Corr(Z,Y) =  0.7429761395619526\n",
      "Corr(X,Y) =  -0.014681657468926137\n",
      "Corr(W,Y) =  0.6830987720947765\n"
     ]
    }
   ],
   "source": [
    "printStats2()"
   ]
  },
  {
   "cell_type": "code",
   "execution_count": 56,
   "id": "c27c282a",
   "metadata": {},
   "outputs": [
    {
     "data": {
      "text/plain": [
       "array([[ 4.16539222,  9.41832741],\n",
       "       [ 9.41832741, 22.25558065]])"
      ]
     },
     "execution_count": 56,
     "metadata": {},
     "output_type": "execute_result"
    }
   ],
   "source": [
    "np.cov(X,Y)"
   ]
  },
  {
   "cell_type": "code",
   "execution_count": 46,
   "id": "a64a2eb7",
   "metadata": {},
   "outputs": [],
   "source": [
    "def covariance(x, y):\n",
    "    # Finding the mean of the series x and y\n",
    "    mean_x = sum(x)/float(len(x))\n",
    "    mean_y = sum(y)/float(len(y))\n",
    "    # Subtracting mean from the individual elements\n",
    "    sub_x = [i - mean_x for i in x]\n",
    "    sub_y = [i - mean_y for i in y]\n",
    "    numerator = sum([sub_x[i]*sub_y[i] for i in range(len(sub_x))])\n",
    "    denominator = len(x)-1\n",
    "    cov = numerator/denominator\n",
    "    return cov"
   ]
  },
  {
   "cell_type": "code",
   "execution_count": 97,
   "id": "c1a7c77f",
   "metadata": {},
   "outputs": [
    {
     "data": {
      "text/plain": [
       "array([[5.01778234, 2.0163808 ],\n",
       "       [2.0163808 , 1.0009665 ]])"
      ]
     },
     "execution_count": 97,
     "metadata": {},
     "output_type": "execute_result"
    }
   ],
   "source": [
    "np.cov(X,Z)"
   ]
  },
  {
   "cell_type": "code",
   "execution_count": 98,
   "id": "85299540",
   "metadata": {},
   "outputs": [
    {
     "data": {
      "text/plain": [
       "2.016380802743516"
      ]
     },
     "execution_count": 98,
     "metadata": {},
     "output_type": "execute_result"
    }
   ],
   "source": [
    "np.cov(X,Z)[1,0]"
   ]
  },
  {
   "cell_type": "code",
   "execution_count": 59,
   "id": "90dc4889",
   "metadata": {},
   "outputs": [
    {
     "data": {
      "text/plain": [
       "1.8208494461434446"
      ]
     },
     "execution_count": 59,
     "metadata": {},
     "output_type": "execute_result"
    }
   ],
   "source": [
    "covariance(X,Z)"
   ]
  },
  {
   "cell_type": "code",
   "execution_count": 55,
   "id": "595158b8",
   "metadata": {},
   "outputs": [],
   "source": [
    "def correlation(x, y):\n",
    "    # Finding the mean of the series x and y\n",
    "    mean_x = sum(x)/float(len(x))\n",
    "    mean_y = sum(y)/float(len(y))\n",
    "    # Subtracting mean from the individual elements\n",
    "    sub_x = [i-mean_x for i in x]\n",
    "    sub_y = [i-mean_y for i in y]\n",
    "    # covariance for x and y\n",
    "    numerator = sum([sub_x[i]*sub_y[i] for i in range(len(sub_x))])\n",
    "    # Standard Deviation of x and y\n",
    "    std_deviation_x = sum([sub_x[i]**2.0 for i in range(len(sub_x))])\n",
    "    std_deviation_y = sum([sub_y[i]**2.0 for i in range(len(sub_y))])\n",
    "    # squaring by 0.5 to find the square root\n",
    "    denominator = (std_deviation_x*std_deviation_y)**0.5 # short but equivalent to (std_deviation_x**0.5) * (std_deviation_y**0.5)\n",
    "    cor = numerator/denominator\n",
    "    return cor"
   ]
  },
  {
   "cell_type": "code",
   "execution_count": 60,
   "id": "768f9580",
   "metadata": {},
   "outputs": [
    {
     "data": {
      "text/plain": [
       "array([[1.        , 0.90908713],\n",
       "       [0.90908713, 1.        ]])"
      ]
     },
     "execution_count": 60,
     "metadata": {},
     "output_type": "execute_result"
    }
   ],
   "source": [
    "np.corrcoef(X,Z)"
   ]
  },
  {
   "cell_type": "code",
   "execution_count": 62,
   "id": "54872d14",
   "metadata": {},
   "outputs": [
    {
     "data": {
      "text/plain": [
       "0.909087130971008"
      ]
     },
     "execution_count": 62,
     "metadata": {},
     "output_type": "execute_result"
    }
   ],
   "source": [
    "correlation(Z,X)"
   ]
  },
  {
   "cell_type": "code",
   "execution_count": 84,
   "id": "11e87b0b",
   "metadata": {},
   "outputs": [
    {
     "data": {
      "text/plain": [
       "(1000, 2)"
      ]
     },
     "execution_count": 84,
     "metadata": {},
     "output_type": "execute_result"
    }
   ],
   "source": [
    "np.transpose(np.vstack((Z,X))).shape"
   ]
  },
  {
   "cell_type": "code",
   "execution_count": 86,
   "id": "d75a3268",
   "metadata": {},
   "outputs": [
    {
     "name": "stdout",
     "output_type": "stream",
     "text": [
      "Coefficients:  [[0.55199162 1.96250928]] an [-0.0329537]\n"
     ]
    }
   ],
   "source": [
    "lin_model = linear_model.LinearRegression()\n",
    "lin_model.fit(np.transpose(np.vstack((Z,X))), Y.reshape(-1,1))\n",
    "print('Coefficients: ', lin_model.coef_, 'an', lin_model.intercept_) "
   ]
  },
  {
   "cell_type": "code",
   "execution_count": 92,
   "id": "00a054ee",
   "metadata": {},
   "outputs": [
    {
     "data": {
      "text/plain": [
       "0.5519916163209287"
      ]
     },
     "execution_count": 92,
     "metadata": {},
     "output_type": "execute_result"
    }
   ],
   "source": [
    "lin_model.coef_[0,0]"
   ]
  },
  {
   "cell_type": "code",
   "execution_count": null,
   "id": "470cabd9",
   "metadata": {},
   "outputs": [],
   "source": []
  }
 ],
 "metadata": {
  "kernelspec": {
   "display_name": "Python 3 (ipykernel)",
   "language": "python",
   "name": "python3"
  },
  "language_info": {
   "codemirror_mode": {
    "name": "ipython",
    "version": 3
   },
   "file_extension": ".py",
   "mimetype": "text/x-python",
   "name": "python",
   "nbconvert_exporter": "python",
   "pygments_lexer": "ipython3",
   "version": "3.9.7"
  }
 },
 "nbformat": 4,
 "nbformat_minor": 5
}
